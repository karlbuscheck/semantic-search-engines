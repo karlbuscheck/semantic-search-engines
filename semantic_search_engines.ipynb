{
 "cells": [
  {
   "cell_type": "markdown",
   "id": "2adf31dc",
   "metadata": {},
   "source": [
    "# Building and Testing Semantic Search Engines"
   ]
  },
  {
   "cell_type": "markdown",
   "id": "e022533e-d859-4273-9036-1c202ceb203b",
   "metadata": {},
   "source": [
    "I love executing the final cell in a Jupyter Notebook and getting hit with a mic drop moment.\n",
    "\n",
    "That's exactly what happened at the end of this notebook while building a couple of semantic search engines that used **embeddings** to grasp the context and nuance of language. One engine relied on pretrained embeddings (`word2vec-google-news-300`), while the other was fully customized, trained from scratch on my own dataset.\n",
    "\n",
    "Intuitively, I thought I knew which one would win.\n",
    "\n",
    "But the results told a different story.\n",
    "\n",
    "Along the way, I dug into embeddings -- how they work, how they're built, and how they power all sorts of AI tools, like ChatGPT, by turning language into numbers. Below is a roadmap of what this notebook covers.\n",
    "\n",
    "## The Roadmap\n",
    "\n",
    "This notebook walks through:\n",
    "- Loading and using pretrained embeddings\n",
    "- A quick word on embeddings\n",
    "- Preparing the corpus for semantic search\n",
    "- Creating a TF-IDF search engine for baseline comparison\n",
    "- Building a semantic search engine with pretrained embeddings\n",
    "- Creating the document-features matrix\n",
    "- Engineering the semantic search function\n",
    "- Building a semantic search engine with custom-trained embeddings\n",
    "- Creating (another) document-features matrix\n",
    "- Re-engineering the semantic search function\n",
    "- Comparing the search engines and crowning an unexpected winner\n",
    "  \n",
    "Let's begin by downloading some pretrained embeddings."
   ]
  },
  {
   "cell_type": "markdown",
   "id": "8233878e-84b4-4a57-9fb5-2a6d3520e0dc",
   "metadata": {},
   "source": [
    "## Loading and using pretrained embeddings"
   ]
  },
  {
   "cell_type": "code",
   "execution_count": 2,
   "id": "2e6e0811",
   "metadata": {
    "scrolled": true
   },
   "outputs": [
    {
     "name": "stdout",
     "output_type": "stream",
     "text": [
      "['fasttext-wiki-news-subwords-300', 'conceptnet-numberbatch-17-06-300', 'word2vec-ruscorpora-300', 'word2vec-google-news-300', 'glove-wiki-gigaword-50', 'glove-wiki-gigaword-100', 'glove-wiki-gigaword-200', 'glove-wiki-gigaword-300', 'glove-twitter-25', 'glove-twitter-50', 'glove-twitter-100', 'glove-twitter-200', '__testing_word2vec-matrix-synopsis']\n"
     ]
    }
   ],
   "source": [
    "import gensim.downloader\n",
    "print(list(gensim.downloader.info()['models'].keys()))"
   ]
  },
  {
   "cell_type": "code",
   "execution_count": 3,
   "id": "f59111cf",
   "metadata": {},
   "outputs": [
    {
     "data": {
      "text/plain": [
       "<gensim.models.keyedvectors.KeyedVectors at 0x13ee54440>"
      ]
     },
     "execution_count": 3,
     "metadata": {},
     "output_type": "execute_result"
    }
   ],
   "source": [
    "# Time to download the model, specifically: 'word2vec-google-news-300'\n",
    "# Note: This might take a while\n",
    "model = gensim.downloader.load('word2vec-google-news-300')\n",
    "model"
   ]
  },
  {
   "cell_type": "markdown",
   "id": "1106e0db-2b1f-453a-8cd2-b2532ed65356",
   "metadata": {},
   "source": [
    "Note: As you see above, we have models from Google News and Twitter, among different places. The numbers at the end refer to the vector size. So, if it says \"300\", then each word is represented with a vector of size 300."
   ]
  },
  {
   "cell_type": "markdown",
   "id": "a85dc66d",
   "metadata": {},
   "source": [
    "## A quick word on embeddings"
   ]
  },
  {
   "cell_type": "markdown",
   "id": "9ada6298-2a74-4988-97ac-16f748224d6a",
   "metadata": {},
   "source": [
    "Before we build the search engines, let’s take a moment to see how embeddings work.\n",
    "\n",
    "**Embeddings turn words into numbers**  -- dense numerical vectors that capture meaning. Words that appear in similar contexts tend to have similar vectors.\n",
    "\n",
    "Let’s try a quick example using pretrained embeddings from Google News:"
   ]
  },
  {
   "cell_type": "code",
   "execution_count": 4,
   "id": "a128d0fe-5ed1-46f4-a809-1d9574df34e7",
   "metadata": {},
   "outputs": [
    {
     "data": {
      "text/plain": [
       "array([-0.31835938, -0.34179688,  0.25585938, -0.01184082,  0.11083984,\n",
       "        0.16210938,  0.17578125,  0.00418091, -0.1328125 , -0.25390625,\n",
       "        0.17871094, -0.08740234,  0.06176758,  0.10351562, -0.03808594,\n",
       "       -0.08251953,  0.0016098 ,  0.28515625, -0.10058594,  0.09521484,\n",
       "       -0.05175781,  0.39648438, -0.22460938,  0.06298828, -0.15332031,\n",
       "        0.15625   ,  0.09082031,  0.36914062,  0.5       , -0.15332031,\n",
       "       -0.02087402,  0.10595703,  0.12988281,  0.33007812,  0.03369141,\n",
       "       -0.40039062,  0.27734375, -0.09082031,  0.1171875 , -0.12890625,\n",
       "       -0.00491333, -0.03955078,  0.15136719,  0.01037598, -0.10595703,\n",
       "       -0.09814453,  0.08496094, -0.01220703,  0.32421875,  0.19433594,\n",
       "       -0.07080078, -0.06542969,  0.0534668 ,  0.15234375, -0.00891113,\n",
       "       -0.05786133,  0.08544922, -0.03125   ,  0.04272461, -0.23144531,\n",
       "       -0.09814453, -0.14648438, -0.05078125, -0.08154297, -0.0703125 ,\n",
       "       -0.51953125,  0.09179688, -0.0168457 , -0.12158203,  0.421875  ,\n",
       "        0.13867188, -0.20214844, -0.16699219,  0.27148438,  0.30078125,\n",
       "       -0.17578125,  0.11523438, -0.10205078, -0.3125    , -0.3359375 ,\n",
       "        0.07275391, -0.13085938, -0.26171875, -0.05322266,  0.01599121,\n",
       "       -0.36914062, -0.10839844,  0.14160156, -0.0480957 ,  0.23632812,\n",
       "       -0.39257812,  0.07226562, -0.11083984,  0.03686523,  0.10205078,\n",
       "       -0.24121094, -0.01940918, -0.22265625,  0.35742188, -0.20605469],\n",
       "      dtype=float32)"
      ]
     },
     "execution_count": 4,
     "metadata": {},
     "output_type": "execute_result"
    }
   ],
   "source": [
    "# Use the .get_vector() method to get the vector for a given word, specifically 'snowboard'\n",
    "# Note: This vector is, of course, a size of 300 but just show the first 100 elements to keep the output clean\n",
    "model.get_vector('snowboard')[:100]"
   ]
  },
  {
   "cell_type": "markdown",
   "id": "17a4ba0c-df37-4335-8b42-39077f639c30",
   "metadata": {},
   "source": [
    "We can also compute how similar two words are using **cosine similarity**. "
   ]
  },
  {
   "cell_type": "code",
   "execution_count": 35,
   "id": "aad2dca9-ec2b-4fd0-9774-197f57456543",
   "metadata": {},
   "outputs": [
    {
     "data": {
      "text/plain": [
       "0.72749674"
      ]
     },
     "execution_count": 35,
     "metadata": {},
     "output_type": "execute_result"
    }
   ],
   "source": [
    "# Check two words that should have high similarity\n",
    "model.similarity('snowboard', 'ski')"
   ]
  },
  {
   "cell_type": "code",
   "execution_count": 36,
   "id": "271005c9-0125-4d38-b81f-a881ef7d90db",
   "metadata": {},
   "outputs": [
    {
     "data": {
      "text/plain": [
       "0.42081076"
      ]
     },
     "execution_count": 36,
     "metadata": {},
     "output_type": "execute_result"
    }
   ],
   "source": [
    "# Now try for moderate similarity\n",
    "model.similarity('snowboard', 'mountain') "
   ]
  },
  {
   "cell_type": "code",
   "execution_count": 37,
   "id": "2ff0ad02-6fc7-4658-9e57-3b286d11e704",
   "metadata": {},
   "outputs": [
    {
     "data": {
      "text/plain": [
       "0.10670625"
      ]
     },
     "execution_count": 37,
     "metadata": {},
     "output_type": "execute_result"
    }
   ],
   "source": [
    "# And now low similarity\n",
    "model.similarity('snowboard', 'podcast')"
   ]
  },
  {
   "cell_type": "markdown",
   "id": "be32c098",
   "metadata": {},
   "source": [
    "# Preparing the corpus for semantic search"
   ]
  },
  {
   "cell_type": "markdown",
   "id": "ac588a26-7ec8-496b-ba92-9d3d633d7599",
   "metadata": {},
   "source": [
    "Now to build a search engine -- but instead of using TF-IDF or bag-of-words models like -- we'll use **embeddings**. This **semantic search engine** won't just be matching exact words, but rather will be capable of matching a word with a *diffferent* word related to it. Think car vs. automobile. Or, Uber and Lyft. Or, perhaps, something more complex than that, as we will see.\n",
    "\n",
    "Let's start by loading our dataset and creating the corpus."
   ]
  },
  {
   "cell_type": "code",
   "execution_count": 7,
   "id": "941c2fd9",
   "metadata": {},
   "outputs": [
    {
     "data": {
      "text/plain": [
       "5000"
      ]
     },
     "execution_count": 7,
     "metadata": {},
     "output_type": "execute_result"
    }
   ],
   "source": [
    "# Import pandas, load the dataset and create the corpus\n",
    "import pandas as pd\n",
    "fake_news = pd.read_csv('fake_news.csv',index_col=0)\n",
    "fake_news = fake_news.sample(n=5000,random_state=0)\n",
    "\n",
    "# Combine title and text columns to form the corpus\n",
    "corpus = (fake_news.title + '. ' + fake_news.text).values\n",
    "len(corpus)"
   ]
  },
  {
   "cell_type": "code",
   "execution_count": 6,
   "id": "e640ddd3-5216-4db5-ab57-9d6b38677572",
   "metadata": {},
   "outputs": [
    {
     "data": {
      "text/plain": [
       "array([\"Ex-Interpol chief says ready to testify for Argentina's Fernandez. BUENOS AIRES (Reuters) - Argentina s previous government never asked Interpol to drop arrest warrants against a group of Iranians accused of bombing a Jewish center, the ex-head of the police agency said on Wednesday, as the government proceeded with treason charges against the former president. Former Interpol chief Ronald Noble said in an email on Wednesday that he wants to testify that the government of former President Cristina Fernandez did not ask to have the arrest warrants lifted as part of a  memorandum  she had with Iran. If a judge allows Noble to testify, the treason case filed this month against Fernandez and 11 other top officials could crumble. She denies wrongdoing and calls the charge politically motivated. The arrest warrants  were not affected in their validity by the approval of the memorandum,  Noble said in an email to a federal appeals court that was seen by Reuters. The Fernandez administration  always expressed its belief that the warrants should remain in effect,  the email said. The accusation that the Fernandez government worked behind the scenes to clear the accused bombers of the AMIA Jewish community center in order to improve trade between Argentina and Iran is at the heart of a charge of treason brought against Fernandez.  She served as president for eight years before being succeeded by Mauricio Macri in 2015. Others agreed that the treason charge against Fernandez appeared questionable.  The indictment by Judge Claudio Bonadio of former President Fernandez, her Foreign Minister Hector Timerman, and 10 others, for  treason  and  concealment  points to no evidence that would seem to substantiate those charges,  Human Rights Watch said in a statement on Tuesday.  The allegations against Fernandez drew international attention in January 2015, when the prosecutor who initially made them, Alberto Nisman, was found shot dead in the bathroom of his Buenos Aires apartment. An Argentine appeals court ordered the re-opening of the investigation a year ago. Nisman s death was classified a suicide, though an official investigating the case has said the shooting appeared to be a homicide. Nisman s body was discovered hours before he was to brief Congress on the 1994 bombing of the AMIA center.  Nisman said Fernandez worked behind the scenes to clear Iran of any wrongdoing and normalize relations to clinch a grains-for-oil deal with Tehran that was signed in 2013. The  memorandum  agreement created a joint commission to investigate the AMIA bombing that critics said was really a means to absolve Iran. \",\n",
       "       \"U.S. warns North Korea of 'overwhelming' response if nuclear arms used. SEOUL (Reuters) - U.S. President Donald Trump’s defense secretary warned North Korea on Friday of an “effective and overwhelming” response if it chose to use nuclear weapons, as he reassured South Korea of steadfast U.S. support. “Any attack on the United States, or our allies, will be defeated, and any use of nuclear weapons would be met with a response that would be effective and overwhelming,” Defense Secretary Jim Mattis said at South Korea’s defense ministry, at the end of a two-day visit. Mattis’ remarks come amid concern that North Korea could be readying to test a new ballistic missile, in what could be an early challenge for Trump’s administration. North Korea, which regularly threatens to destroy South Korea and its main ally, the United States, conducted more than 20 missile tests last year, as well as two nuclear tests, in defiance of U.N. resolutions and sanctions. The North also appears to have also restarted operation of a reactor at its main Yongbyon nuclear facility that produces plutonium that can be used for its nuclear weapons program, according to the U.S. think-tank 38 North. “North Korea continues to launch missiles, develop its nuclear weapons program and engage in threatening rhetoric and behavior,” Mattis said. North Korea’s actions have prompted the United States and South Korea to respond by bolstering defenses, including the expected deployment of a U.S. missile defense system, known as Terminal High Altitude Area Defense (THAAD), in South Korea later this year.  The two sides reconfirmed that commitment on Friday. China, however, has objected to THAAD, saying it is a direct threat to China’s own security and will do nothing to bring North Korea back to the negotiating table, leading to calls from some South Korean opposition leaders to delay or cancel it. Chinese Foreign Ministry spokesman Lu Kang reiterated China’s opposition, which he said would never change. “We do not believe this move will be conducive to resolving the Korean peninsula nuclear issue or to maintaining peace and stability on the peninsula,” Lu told a daily news briefing in Beijing.  South Korean Defense Minister Han Min-koo said Mattis’ visit to Seoul - his first trip abroad as defense secretary - sent a clear message of strong U.S. support. “Faced with a current severe security situation, Secretary Mattis’ visit to Korea ... also communicates the strongest warning to North Korea,” Han said.  Once fully developed, a North Korean intercontinental ballistic missile (ICBM) could threaten the continental United States, which is about 9,000 km (5,500 miles) from North Korea. ICBMs have a minimum range of about 5,500 km (3,400 miles), but some are designed to travel 10,000 km (6,200 miles) or more. Former U.S. officials and other experts have said the United States essentially has two options when it comes to trying to curb North Korea’s fast-expanding nuclear and missile programs - negotiate or take military action. Neither path offers certain success and the military option is fraught with huge dangers, especially for Japan and South Korea, U.S. allies in close proximity to North Korea. Mattis is due in Japan later on Friday. \",\n",
       "       'Big security risks in Trump feud with spy agencies, officials say. WASHINGTON (Reuters) - An unprecedented pre-presidential inauguration feud between Donald Trump and intelligence agencies that soon will be under his command could harm U.S. security if not quickly defused, current and former government officials said. They said morale at the CIA and other agencies was already sagging because of disputes with Trump over whether Russian President Vladimir Putin ordered interference in the U.S. election and over leaks about an unsubstantiated dossier compiled by a private security firm suggesting Moscow had compromising information on Trump. Unless addressed, the disputes could prompt the departure of personnel and lead those who remain to take fewer risks to counter security threats, the officials said. In the last few months, Trump has expressed his willingness to deal with Putin and denigrated the work of the intelligence agencies. This week, the President-elect accused agencies of leaking the dossier’s information to the media, but Director of National Intelligence James Clapper said he did not believe intelligence officials were responsible for the leak. “People shooting at (the CIA) is pretty common. But usually it’s not the president,” one former senior U.S. official said. Trump’s transition team did not reply to email messages seeking comment. “I think it’s a recipe for disaster,” said Daniel Benjamin, who served in senior White House and State Department counter-terrorism posts under Democratic presidents. Benjamin, now at Dartmouth College, said there was a “strong chance” people would leave and they have “tremendous value” to the private sector. Complicating the situation just a week before Republican Trump is sworn in, two of his nominees for top security posts set a different tone at their Senate confirmation hearings, heaping praise on the men and women who work in the secret world of intelligence gathering. Republican congressman Mike Pompeo, nominee for Central Intelligence Agency director, said on Thursday that he has seen  CIA personnel “walk through fire.” Separately, Trump’s nominee for U.S. defense secretary, James Mattis, told senators that he had a “very, very high degree of confidence” in U.S. intelligence agencies.  Mattis also put Russia at the top of a list of threats to U.S. interests. A top official at one intelligence agency said a growing number of intelligence officers over the age of 50 and with at least 20 years of service, including at least five years overseas, have drafted and in many cases signed but not dated their resignation letters. “There is great anxiety here about the President-elect’s apparent disdain for the work we do and the dangers we face,”   a second senior intelligence official, at another agency, said. He and others spoke on condition of anonymity to discuss intelligence matters and morale at their agencies. The latest round of rancor began with a CNN report that Trump had been briefed Jan. 6 by intelligence and law enforcement chiefs on a two-page memo summarizing the unverified claims in the dossier. In blaming intelligence agencies for the leak, Trump wrote on Twitter: “One last shot at me. Are we living in Nazi Germany?” Spy chief Clapper called Trump before dinnertime on Wednesday to calm the waters. Trump and Clapper differed on what was said in the phone conversation. On Friday, Trump appeared to again blame U.S. spies for the leak. “Probably released by ‘intelligence’ even knowing there is no proof and never will be,” he said on Twitter. U.S. intelligence agency personnel “are kind of shell-shocked at being accused of being Nazis and intentionally leaking this stuff,” the former senior official said. The 17 U.S. intelligence agencies have combined budgets of more than $70 billion and tens of thousands of employees. They are responsible for everything from warning of terrorist attacks to supporting American troops on the battlefield and analyzing the impacts of global trends such as climate change. Several former U.S. officials said the tensions with Trump were the worst they could recall since President George W. Bush and the CIA traded blame in 2003 and 2004 over the failure to find weapons of mass destruction in Iraq.  But Douglas Wise, a former senior CIA official, said it will be harder for Trump to “beat up” on his own intelligence chiefs once they are in place instead of officials appointed by Democratic President Barack Obama. “I think things are going to change,” Wise said. Still, tensions seem likely to persist after Inauguration Day on Jan. 20. Retired Lt. Gen. Michael Flynn, who will be Trump’s national security adviser, led the Pentagon’s Defense Intelligence Agency until he was fired by Clapper. He has a long-time suspicion of the CIA, according to Wise and others who have worked with him. “What Pompeo said was somewhat reassuring, but it’s not at all clear whether that matters, or whether Trump’s apparent attitude and Flynn’s bitterness toward us is what counts,” the second senior intelligence official said. '],\n",
       "      dtype=object)"
      ]
     },
     "execution_count": 6,
     "metadata": {},
     "output_type": "execute_result"
    }
   ],
   "source": [
    "# Display the first 3 elements of corpus\n",
    "corpus[:3]"
   ]
  },
  {
   "cell_type": "markdown",
   "id": "2dcb0065-8c97-4e57-98a3-8ea0a9d5fe04",
   "metadata": {},
   "source": [
    "We know have the foundation for our semantic search engine, a corpus of 5,000 news articles with each document consisting of the article's title followed by its full text."
   ]
  },
  {
   "cell_type": "markdown",
   "id": "490f1ced",
   "metadata": {},
   "source": [
    "## Creating a TF-IDF search engine for baseline comparison"
   ]
  },
  {
   "cell_type": "markdown",
   "id": "9efd0648-7354-4f9a-b2ce-8b534f407ef6",
   "metadata": {
    "jp-MarkdownHeadingCollapsed": true
   },
   "source": [
    "Before we jump into semantic search with embeddings, let’s build a baseline using a more traditional method: **TF-IDF**. TF-IDF, or Term Frequency–Inverse Document Frequency, scores words based on how *important* they are to a document -- relative to the rest of the corpus. \n",
    "\n",
    "**Note**: TF-IDF doesn't capture context or meaning like embeddings do, but it’s still a popular and helpful approach in many search and NLP tasks.\n",
    "\n",
    "We'll begin by using the `clean_text` function, which tokenizes the text, lower cases it, removes stop words and lemmatized each word."
   ]
  },
  {
   "cell_type": "code",
   "execution_count": 9,
   "id": "f2be0063",
   "metadata": {},
   "outputs": [
    {
     "name": "stderr",
     "output_type": "stream",
     "text": [
      "[nltk_data] Downloading package punkt to\n",
      "[nltk_data]     /Users/karlbuscheck/nltk_data...\n",
      "[nltk_data]   Package punkt is already up-to-date!\n",
      "[nltk_data] Downloading package stopwords to\n",
      "[nltk_data]     /Users/karlbuscheck/nltk_data...\n",
      "[nltk_data]   Package stopwords is already up-to-date!\n"
     ]
    }
   ],
   "source": [
    "from gensim.utils import tokenize\n",
    "import nltk\n",
    "nltk.download('punkt')\n",
    "nltk.download('stopwords')\n",
    "from nltk.stem import PorterStemmer\n",
    "from nltk.stem import WordNetLemmatizer\n",
    "from nltk.corpus import stopwords\n",
    "stop_words = set(stopwords.words('english'))\n",
    "\n",
    "def clean_text(text):\n",
    "    lemmatizer = WordNetLemmatizer()\n",
    "    stemmer = PorterStemmer()\n",
    "    tokens = list(tokenize(text))\n",
    "    #res = ' '.join([stemmer.stem(t.lower()) for t in tokens if t.lower() not in stop_words]) \n",
    "    res = ' '.join([lemmatizer.lemmatize(t.lower()) for t in tokens if t.lower() not in stop_words]) \n",
    "    if len(res) == 0:\n",
    "        return ' '\n",
    "    else:\n",
    "        return res"
   ]
  },
  {
   "cell_type": "markdown",
   "id": "fb79116c-4539-430c-8630-6b2ef4501cfd",
   "metadata": {},
   "source": [
    "Now we need to turn the corpus into a document-term matrix with TF-IDF values. This matrix will be the foundation for our TF-IDF-based search engine."
   ]
  },
  {
   "cell_type": "code",
   "execution_count": 10,
   "id": "37aa3de5-6e25-4193-ac40-091abb9900b0",
   "metadata": {},
   "outputs": [],
   "source": [
    "# So, import the TF-IDF Vectorizer, intialize it and then store it in a sparse matrix\n",
    "from sklearn.feature_extraction.text import TfidfVectorizer\n",
    "tfidf = TfidfVectorizer(preprocessor=clean_text,ngram_range=(1,2))\n",
    "res = tfidf.fit_transform(corpus)"
   ]
  },
  {
   "cell_type": "code",
   "execution_count": 11,
   "id": "31d11598-9277-4f9c-b560-24ee9fbb32ab",
   "metadata": {},
   "outputs": [
    {
     "data": {
      "text/plain": [
       "<5000x778839 sparse matrix of type '<class 'numpy.float64'>'\n",
       "\twith 1926603 stored elements in Compressed Sparse Row format>"
      ]
     },
     "execution_count": 11,
     "metadata": {},
     "output_type": "execute_result"
    }
   ],
   "source": [
    "# Check the results\n",
    "res"
   ]
  },
  {
   "cell_type": "markdown",
   "id": "1780b3ec-1088-4259-beb2-82147021c304",
   "metadata": {},
   "source": [
    "This is quite a big TF-IDF matrix. It has:\n",
    "\n",
    "- **5,000 rows** (one per article)\n",
    "- **778,839 columns** (one per unique token or bigram)\n",
    "- Over **1.9 million non-zero values** stored in sparse format\n",
    "\n",
    "That’s nearly **3.9 billion total cells** -- the vast majority of which are zero, highlighting the sparsity of text data."
   ]
  },
  {
   "cell_type": "code",
   "execution_count": 12,
   "id": "0902fb50-db82-4e84-8ba1-55777030607b",
   "metadata": {},
   "outputs": [
    {
     "data": {
      "text/plain": [
       "array(['_cingraham', '_cingraham december', '_js', ..., 'zzsg pbf', 'zzz',\n",
       "       'zzz ek'], dtype=object)"
      ]
     },
     "execution_count": 12,
     "metadata": {},
     "output_type": "execute_result"
    }
   ],
   "source": [
    "# Get the feature names\n",
    "features = tfidf.get_feature_names_out()\n",
    "features"
   ]
  },
  {
   "cell_type": "code",
   "execution_count": 13,
   "id": "9ed235e8-e082-4009-aba2-098dff11b7aa",
   "metadata": {},
   "outputs": [
    {
     "data": {
      "text/plain": [
       "778839"
      ]
     },
     "execution_count": 13,
     "metadata": {},
     "output_type": "execute_result"
    }
   ],
   "source": [
    "# Check the length of this: It will, of course, match the number of columns, each \n",
    "# representing the features or terms in our vocabulary\n",
    "len(features)"
   ]
  },
  {
   "cell_type": "markdown",
   "id": "7a098584-264f-4d74-89d6-f296d541da6c",
   "metadata": {},
   "source": [
    "Now let’s define the `tfidf_search()` function, which powers the engine:\n",
    "\n",
    "- Transforms the user's query into a TF-IDF vector\n",
    "- Computes cosine similarity between the query and each document in the corpus\n",
    "- Sorts and returns the top 10 most similar articles"
   ]
  },
  {
   "cell_type": "code",
   "execution_count": 18,
   "id": "8fb586a9-2c77-436b-ab0e-51f2bd750c33",
   "metadata": {},
   "outputs": [],
   "source": [
    "# First, import cosine similarity from scikit-learn\n",
    "from sklearn.metrics.pairwise import cosine_similarity"
   ]
  },
  {
   "cell_type": "code",
   "execution_count": 19,
   "id": "6cc95677-563f-4e22-8ef4-2acba4d038c8",
   "metadata": {},
   "outputs": [],
   "source": [
    "# This is a search function\n",
    "# The user writes a query and the function will return the 10 most similar\n",
    "# documents, or articles; The function transforms the query into a vector and then matches it\n",
    "# against all 5,000 document vectors using cosine similarity \n",
    "def tfidf_search(query):\n",
    "    qv = tfidf.transform([query])\n",
    "    sim = cosine_similarity(res,qv).reshape(res.shape[0])\n",
    "    indices = sim.argsort()\n",
    "    for i in range(10):\n",
    "        ind = indices[-i-1]\n",
    "        print(f'======= DOCUMENT {ind}, SIMILARITY {sim[ind]}')\n",
    "        print(corpus[ind] + '\\n')"
   ]
  },
  {
   "cell_type": "code",
   "execution_count": 20,
   "id": "ee682ce7-4633-4129-862a-578e587c7090",
   "metadata": {},
   "outputs": [
    {
     "name": "stdout",
     "output_type": "stream",
     "text": [
      "======= DOCUMENT 696, SIMILARITY 0.10967855403145015\n",
      "New York City budget boss to state: We're not a 'piggy bank'. NEW YORK (Reuters) - New York City’s fiscal watchdog said the city faces much bigger budget deficits in coming years than the mayor has forecast and warned state lawmakers about treating the city like a “piggy bank.” The state, like the city, is finalizing its budget and will soon make decisions affecting New York City. “Some upstate legislators just don’t get it,” New York City Comptroller Scott Stringer said during his review of the city budget on Wednesday. “They see New York City as their piggy bank.”  Stringer cautioned against last-minute, late-night budget decisions that could deprive the city of resources. His comments reflected growing frustration with state lawmakers over their suggestions that the city is flush with cash after a stronger economic recovery than other parts of the state. New York State Governor Andrew Cuomo has had a tense relationship with New York City Mayor Bill de Blasio, persuading his fellow Democrat last year to pay $2.5 billion toward the city’s public transportation system, which is run by the Metropolitan Transportation Authority, a state agency. There have also been suggestions in the state capital that the city could do more to fund healthcare costs and pay more for the city’s university system. New York State legislators are known for “vampire” budget sessions that go into the early hours to beat the budget deadline at the start of the state’s fiscal year on April 1. Stringer said that although next year’s budget remained balanced, the total gaps forecast through fiscal year 2020 are $1 billion more than the mayor’s office had predicted. “Budget monitors and rating agencies have all applauded this administration’s fiscal prudence and focus on protecting against economic uncertainty – and investors agree,” said Amy Spitalnick, a spokesperson for de Blasio.  The mayor’s office points out that Stringer projects $900 million in additional tax revenue for this financial year and next, and cites that as an example of cautious revenue projections on the city’s part. Stringer said the mayor should not have included $731 million from the sale of taxi medallions through 2020, saying the taxi business is currently in upheaval. The city has already cut it expectations for revenue from taxi medallion sales but Stringer has been more aggressive in elimintaing it from later years. He also said some taxes would be lower than the mayor is predicting and that costs for overtime, healthcare and homeless shelters would be higher. \n",
      "\n",
      "======= DOCUMENT 1394, SIMILARITY 0.1088086580677053\n",
      "New York's Cuomo signs two-tier minimum wage law in push for state-wide $15/hour. NEW YORK (Reuters) - New York Governor Andrew Cuomo on Monday signed into law a minimum wage increase that takes a two-tier approach, setting a higher $15 per hour minimum for New York City and its environs and a lower legal minimum for less-costly areas. Cuomo held a rally celebrating the event with Hilary Clinton, who is campaigning for the Democratic presidential nomination in her home state before its April 19 primary. Democrats have rallied behind the $15 minimum wage ahead of the presidential election in November. “This new economy is not a fair economy for the middle class and the working families of this country,” Cuomo said at the signing in a New York City convention center. “They feel that the American dream is slipping away.” States and cities have moved to surpass the federal minimum wage, which has remained at $7.25 an hour since 2009. California Governor Jerry Brown on Monday also signed into law a plan to raise the minimum wage from $10 to $15 an hour by the year 2023, making the nation’s most-populous state among the first to boost pay to that level for the working poor. Clinton’s Democratic opponent for the nomination, U.S. Senator Bernie Sanders, issued a statement from the campaign trail in Wisconsin praising both New York and California for pushing through the legislation. In New York, the minimum wage rises to $15 per hour from its current $9 by the end of 2018 for most businesses in New York City. Commuter counties of Nassau, Suffolk and Westchester will reach $15 by the end of 2021, while the rest of the state will reach $12.50 by the end of 2020. The two-tier approach was a compromise deal reached with the state’s Republican lawmakers, who said an increase to $15 in the poorer upstate areas in the north of the state would be unfair to business owners. After 2020 the $12.50 minimum wage upstate has the potential to rise by an amount determined by the state labor commissioner and the director of the budget. Any increase would be indexed to inflation and wage growth. New York’s law also carves out a slow-lane for New York City business with up to 10 employees, giving them four years instead of three to implement $15 per hour. The law also contains a “safety valve.” From 2019, state budget officials will look at the effects of the wage increases on regional economies and determine whether they should continue or be suspended. In addition to the minimum wage law, Cuomo also signed a bill granting 12-week paid family leave that will phase in by 2021. \n",
      "\n",
      "======= DOCUMENT 4608, SIMILARITY 0.09409684660483586\n",
      "New York lawmakers vote to legalize fantasy sports games. ALBANY, N.Y. (Reuters) - Fantasy sports moved a step closer to being legal in New York on Saturday when lawmakers approved the daily and season-long games, clearing a path for FanDuel, DraftKings and others to offer them to millions of players in the state. The multibillion-dollar industry, where players draft fantasy teams for sports including football, basketball and baseball, has drawn increased scrutiny since last year with the attorneys general of several U.S. states, including New York, Illinois and Nevada, questioning the legality of the games. New York Attorney General Eric Schneiderman had held off on pursuing litigation against the fantasy companies for what he claimed were illegal gambling operations, and the companies have suspended their “games of skill” while the proposed legislation was in train. New York’s Senate passed the measure 45-17 early Saturday morning, sending the legislation that regulates and taxes the operators of fantasy sports games to Governor Andrew Cuomo. It is unclear whether Cuomo will sign the legislation, which the Assembly passed on Friday.  Daily fantasy sports, a turbocharged version of the season-long game where players draft teams in live games played in just one evening or over a weekend, has boomed over the past decade. State Assembly Gaming Committee Chairman J. Gary Pretlow predicted Cuomo would endorse the bill, partly because many young New York voters play the fantasy games and because it would generate tax revenues. “It’s a good thing for New Yorkers because there are more than three and half million participants, most of them millennials,” Pretlow said. DraftKings, which has dominated the industry along with FanDuel, praised the legislation as providing what it called a “sensible framework for regulating our games”.  In a statement on Saturday, the company said it would resume operations soon with new rules that provide “fairness and transparency at the core” of all its contests, assuming the governor signs the legislation. FanDuel pointed out that New York was the seventh state to pass a fantasy sports bill this year, following Colorado, Indiana, Mississippi, Missouri, Tennessee, and Virginia. “It speaks to the popularity of our game” said Nigel Eccles, the company’s CEO and co-founder. The New York legislation calls for a 15 percent annual state tax on gross revenues of all sports fantasy contests with an entry fee. Another 0.5 percent will be assessed each year on the companies with a maximum of $50,000. State Senator John Bonacic, who sponsored the bill, estimates annual state revenues will be about $5.5 million, adding that the measure is “going to make a lot of New Yorkers very happy”. The legislation survived heavy opposition from casino companies operating in New York. Opponents said it would weaken New York’s current gaming operations, including the horse racing industry which has been propped up by state government, by giving gamblers more options. After intense lobbying from the fantasy gaming industry, which retained former pro quarterbacks Jim Kelly and Vinny Testaverde to promote the games, lawmakers beat a June 30 deadline to set regulations. Schneiderman said in a statement on Saturday that he would enforce the law as amended, but his office would still pursue claims that DraftKings and FanDuel had engaged in false advertising and consumer fraud. FanDuel and DraftKings are in early-stage talks to merge, people familiar with the matter told Reuters on Monday. \n",
      "\n",
      "======= DOCUMENT 1910, SIMILARITY 0.09084002513726966\n",
      "Hillary Clinton to propose $10 billion manufacturing investment. WASHINGTON (Reuters) - Democratic presidential candidate Hillary Clinton on Friday will propose a $10 billion investment in partnerships to encourage the growth of the U.S. manufacturing sector as part of a national push to discourage outsourcing in the industry. The proposal would work with a broader campaign to encourage companies to build and expand their U.S. manufacturing operations. Clinton is slated to roll out the proposal on Friday in Syracuse, New York, ahead of the state’s nominating contest on April 19. New York has long been a hub of the manufacturing industry, but suffered significant declines in the sector in recent years. From 2000-2008, upstate New York alone lost nearly 105,000 manufacturing jobs, according to the state government. Clinton maintains a lead in the state, which she represented in the U.S. Senate, over rival Bernie Sanders, a U.S. Senator from Vermont and a New York native.  Sanders was born and raised in New York City’s borough of Brooklyn. The Clinton campaign is headquartered there.  The campaign said the proposal’s multi-billion dollar price tag would largely be covered by Clinton’s proposed “clawback” tax, which would rescind tax relief for companies that outsource jobs or facilities abroad. \n",
      "\n",
      "======= DOCUMENT 1020, SIMILARITY 0.08870757329745137\n",
      " WATCH What Hillary Says About Trump’s Bigoted Campaign In Her First Ad Targeting Him (VIDEO). Hillary Clinton has just launched the first ad directly aimed at Donald Trump s campaign. The ad is all about New York, in time for the April 19 Democratic primary there, but uses the opportunity to criticize the current Republican frontrunner on his home territory.The 30-second TV spot that will begin airing ahead of the April 19 primary   a Clinton spokesman said the timing of the ad launch in the expensive New York media market was still to be determined   uses grainy footage from a Trump rally earlier this month were a white supporter sucker-punches an African-American protester. When some say we can solve America s problems by building walls, banning people based on their religion, and turning against each other, well, this is New York. And we know better,  Clinton says while the camera pans over a sign advertising a new Trump hotel that is  coming 2016. In the ad, Clinton also talks up the diversity of New York, themes that she has used in her campaign and a nod towards the diverse coalition of voters that delivered two presidential terms to President Obama:  No, we don t all look the same. We don t all sound the same, either. But when we pull together, we do the biggest things in the world.  The ad then cuts to time-lapse footage of the newly built Freedom Tower in downtown Manhattan, which was built on the site of the former World Trade Center.The ad follows a campaign event in Wisconsin where Clinton took on Trump s habit of inciting violence and hate at his rallies. She noted,  What Donald Trump has been doing over these last months is inciting violent behavior, aggressive behavior that I think is very dangerous and has resulted in attacks on people at his events, including this charge that was brought against his campaign manager. The most recent polling in New York have Clinton ahead of Democratic rival Bernie Sanders by an average of 34.5 percent. She is currently ahead of Trump nationally by an average of 11.5 percent. In 2012, President Obama beat Republican nominee Mitt Romney by 28 percent in New York.Featured image via YouTube\n",
      "\n",
      "======= DOCUMENT 909, SIMILARITY 0.08387741890373963\n",
      "Warren Buffett, Larry Fink criticize Trump tax plan. WASHINGTON (Reuters) - President Donald Trump’s tax reform plan came under new criticism on Tuesday from two towering Wall Street figures, including billionaire investor Warren Buffett, who called into question a Republican drive to slash the U.S. corporate rate.   With the White House and top Republicans in Congress already on the defensive over claims the plan would not cut taxes for many middle-class Americans, Buffett and BlackRock Inc (BLK.N) Chief Executive Larry Fink suggested in separate interviews that the corporate rate may not have to be cut as deeply as proposed. “We have a lot of businesses... I don’t think any of them are non-competitive in the world because of the corporate tax rate,” Buffett, the chairman and CEO of Berkshire Hathaway Inc (BRKa.N), told CNBC. Fink said a corporate rate as high as 27 percent could satisfy U.S. businesses’ need for tax relief, while avoiding an increase in the federal deficit.  “What is being proposed is a pretty large expansion of our deficits,” Fink told Bloomberg TV. The Republican tax plan unveiled last month calls for slashing the corporate income tax rate to 20 percent from the current level of 35 percent, which many multinationals already avoid paying by taking advantage of abundant tax loopholes. The plan contains up to $6 trillion in tax cuts, according to independent analysts, which Trump and top Republicans say they would offset by eliminating loopholes, deductions and tax breaks and boosting annual economic growth. Hungry for legislative victory after repeated failures in their push to overturn Obamacare, many Republicans are now willing to accept a tax plan that raises the federal deficit, a fact that bothers some deficit hawks. “I feel like in some ways, since Election Day, we’ve moved into a party atmosphere. And that concerns me,” said Republican Senator Bob Corker, who has vowed not to vote for a tax bill that increases the deficit.  Republicans also insist that cutting the corporate tax rate to 20 percent will help workers by increasing jobs and raising salaries, though this claim is disputed by Democrats.    Senator Ron Wyden, the top Senate Democrat on tax policy, accused the Trump administration on Tuesday of removing a research paper from the U.S. Treasury’s website that showed workers would benefit only marginally from a corporate rate cut. “Apparently that mainstream economic analysis had to be purged because it basically didn’t jibe with the Trump team’s patter,” Wyden said at a Senate Finance Committee hearing. A Treasury spokeswoman said the document was a dated analysis from the Obama administration that “does not represent our current thinking and analysis.”  An analyst who testified at the Senate hearing said only about 20 percent of the benefits of a corporate tax cut would directly help workers.  Buffett and Fink also criticized other Republican tax initiatives. Buffett said a proposal to repeal the estate tax would be “a terrible mistake” that would benefit the wealthiest Americans unnecessarily. Fink predicted tax legislation would not pass if it includes a proposal to eliminate a popular deduction for state and local tax payments.    “I don’t believe we’re going to get tax reform if there is the elimination of deductibility of state and local taxes,” he said.   Eliminating the state and local tax deduction would raise about one-quarter of the $4 trillion in revenues that some Republicans say they need to prevent tax cuts from creating a massive increase in the federal budget deficit. But eliminating that deduction is already opposed by Republican lawmakers from high-tax states such as New York and California, who say it helps their state governments pay for social programs, including public education.   House of Representatives Ways and Means Committee Chairman Kevin Brady discussed the state and local tax deduction at dinner on Monday evening with about a dozen other House Republicans, including some New York lawmakers. At least one came away predicting there would be a compromise. “We kicked around six or eight or 10 different types of options,” Republican Representative Chris Collins, a staunch Trump ally from New York, told reporters. \n",
      "\n",
      "======= DOCUMENT 1678, SIMILARITY 0.08001119692333837\n",
      "Illinois marked 14th straight budget deficit in FY 2015: audit. CHICAGO (Reuters) - Illinois’ overall financial condition deteriorated in fiscal 2015 as tax collections fell, with the state recording its fourteenth straight budget deficit, according to an annual audit released on Tuesday. The nation’s fifth-largest state ended fiscal 2015 on June 30 with a general fund deficit that grew to $6.9 billion from $6.7 billion in fiscal 2014, the comprehensive annual financial report by Illinois Auditor General Frank Mautino showed. A temporary income tax hike enacted in 2011 partially expired midway through fiscal 2015, decreasing collections by $1.8 billion. “The state continues to show an inability to generate sufficient cash from its current revenue structure to pay operating expenditures on a timely basis,” the audit said. It also warned that budget deficits, along with growing unfunded liabilities for pensions and retiree healthcare, and credit rating downgrades “may impact the state’s ability to access credit markets to pay operational expenditures more timely and may increase interest costs of those borrowings.”  Illinois, which already pays a big penalty in the U.S. municipal bond market, has the worst-funded pensions and the lowest credit ratings among the 50 states. The state is in its 10th month without a full fiscal 2016 budget due to an impasse between its Republican governor and Democrats who control the legislature.  Lawmakers returned to session this week after their spring break without any deal in sight for a fiscal 2016 or 2017 budget. The state’s liabilities, led by a $108.6 billion unfunded pension liability and $32.5 billion in payments due on bonds, dwarfed nearly $22 billion in assets, including buildings, infrastructure and equipment, resulting in a net deficit of $125.3 billion compared with $121.2 billion in fiscal 2014, the audit said. This left Illinois in the worst shape of the 42 U.S. states that have filed fiscal 2015 audits. Of the seven states that ended the fiscal year with a net position in the red - a list that also includes New Jersey, California and Kentucky - Illinois had the largest overall net deficit. Illinois’ budget stabilization fund was unchanged at $275.7 million, an insufficient amount to address cash management needs, according to state Comptroller Leslie Munger. Her office reported a $6.58 billion unpaid bill backlog on Tuesday. \n",
      "\n",
      "======= DOCUMENT 2499, SIMILARITY 0.07920609507926663\n",
      "New York judge weighs Cruz ballot challenge on birthplace issue. ALBANY, New York (Reuters) - A New York judge on Thursday withheld judgment until Monday morning on a challenge from two New York residents seeking to remove Senator Ted Cruz from the state’s primary ballot for the presidential primary because of his birth in Canada. The plaintiffs objected to Cruz’s inclusion in the ballot for the state’s April 19 primary election for the Republican party’s presidential nomination, claiming the senator from Texas is constitutionally ineligible to assume the White House. New York Supreme Court Judge David Weinstein promised to decide if the case will proceed by Monday. He said the objectors, Barry Korman, 81, of Manhattan, and William Gallo, 85, of Manhasset, Long Island, could argue the merits later next week if he decides they have standing. Republican front-runner Donald Trump has repeatedly questioned Cruz’s eligibility for the White House, and residents in Alabama, Pennsylvania and Texas have filed legal challenges to block him from appearing on the ballot.  An Illinois judge dismissed a similar challenge there this week on a technicality. Some legal experts say it is unlikely any judge in the U.S. will block Cruz’s presidential run. In their Feb. 19 petition, the two New York residents attached a birth certificate for Cruz, showing he was born in December 1970 in Calgary, Alberta, in Canada, and arguing he was not “naturally born” in the United States as the Constitution dictates for any U.S. president. Cruz has said he is eligible to run because of his mother’s U.S. citizenship. His father is a Cuban immigrant. Lawyer Grant Lally, appearing for Cruz in Albany, said the judge should dismiss the case because the objectors missed a deadline to file their petition, and added the matter is a federal, not a state, issue. Roger J. Bernstein, a lawyer for the objectors, said the challenge needed a judge’s attention. “The voters of the Republican Party need clarity,” he said.   (Editing by Richard Valdmanis and Leslie Adler) This article was funded in part by SAP. It was independently created by the Reuters editorial staff. SAP had no editorial involvement in its creation or production.\n",
      "\n",
      "======= DOCUMENT 1643, SIMILARITY 0.07635844184367725\n",
      " WATCH: ‘The View’ Hosts Tell Trump To Get The F*ck Out Of New York City. Donald Trump wants to rule America from his golden tower in New York City, but the ladies of The View want him to go away and never come back.Trump is causing major headaches with his desire to be a part-time president.The New York Times reported over the weekend that Trump wants to spend a large portion of his four-year term living in his Trump Tower apartment instead of the White House, where presidents traditionally live and work until their tenure comes to an end.But while Washington D.C. can handle presidential motorcades and security lockdowns, the city of New York is different. That s why Trump wanting to keep living in Trump Tower on Fifth Avenue is a nightmare for residents, including the hosts of The View. Today I m on a little bit of a rant,  Whoopi Goldberg began.  Because it took me about seven hours to get to work this morning, because President-elect Donald Trump has his mid-town Manhattan apartment and it s on permanent lockdown. You need to take your behind to Washington! You wanted the job! Go on and go to Washington! The audience cheered in agreement as Goldberg continued. You got to go, man!  she shouted.  You got to go! You cannot stay in Trump Tower! You got to go! Sarah Haines agreed, explaining that New York City is not designed to deal with security lockdowns of this nature. It s a major tourism hub, and Fifth Avenue is one of the busiest streets in the city. Trump is making the city a living hell that only caters to him by continuing to live there.But Joy Behar had a solution. He needs to go where people like him,  Behar said.  Moscow! That s a good spot. And she has a point. Maybe Putin and Trump can share bunk beds in the Kremlin.A still angry Whoopi Goldberg resumed yelling at Trump to get the f*ck out.  What other president has lived in the town he was hanging out in? None. They all go to Washington. GO!! Here s the video via Vid Me.Donald Trump is a selfish man who only cares about himself. If he gets what he wants, residents of Manhattan can expect these kinds of security lockdowns and the inconveniences they cause every single week as Trump plans to split his time between Washington and New York.If he thinks New Yorkers hate him now, they re really going to hate him when he starts messing with traffic every week.Featured image via screenshot\n",
      "\n",
      "======= DOCUMENT 4177, SIMILARITY 0.07295531255890221\n",
      " Trump Just Visited His Home State, And New Yorkers Told Him To Get F*cked (IMAGES/VIDEO). On Thursday, Donald Trump visited his home state for the first time since he was kinda-sorta  elected  President by a minority of the population and a system of rules that is in inexplicably still in place to protect slavery (seriously). Let s just say the welcome wasn t the warmest. I m just here to protest everything Trump,  protester and real estate broker Nina Horowitz told the Straits Times.  It just gets worse and worse and he s just not president material by any stretch of the imagination. He s an anti-intellectual who s not qualified for the job and I believe he contradicts what America is supposed to be about,  said a protest organizer.The crowd collectively had a message for Trump:  New York hates you. Here is just a little bit of what The Donald dealt with upon his return home.Protesters gather outside the Intrepid ahead of Trump's arrival https://t.co/KHFZVFhRrg via @YahooNews pic.twitter.com/hbLdfBLM9l  Steven Wroblewski (@WrobStv) May 5, 2017Donald Trump, you aren't welcome here. pic.twitter.com/5eMJ8hOaTy  Justin Hendrix (@justinhendrix) May 4, 2017Anti-Trump protest on NYC Westside. pic.twitter.com/Bi9PITUHmL  Miguel Marquez (@miguelmarquez) May 4, 2017.@womensmarch New York hates you @realDonaldTrump pic.twitter.com/K0oV5HI6P0  SeriouslyUS? (@USseriously) May 4, 2017\"New York hates you, Donald Trump!\" protestors yell around @TrumpTower in response to @realDonaldTrump's presence in NYC today pic.twitter.com/ZhARTcu0dm  Madina Toure (@madinatoure) May 4, 2017\"Racist, sexist, anti-gay: Donald Trump Go Away. New York Hates You.\" https://t.co/qryOLprBx2 pic.twitter.com/wHNjIxaMUo  #NoFascistUSA (@RefuseFascism) May 4, 2017Hundreds march against Donald Trump ahead of New York visit https://t.co/rqR01Gry67 pic.twitter.com/eonA6Yett2  The Straits Times (@STcom) May 5, 2017While he was in New York, Trump told Australian Prime Minister Malcolm Turnbull, you have better healthcare than we do.  Australia has universal healthcare, a system often derided by Republicans who would rather see the poor suffer than pay a single goddamn penny more in taxes.Donald Trump is a complete embarrassment to our country and the people of his home state know it.This is the response with which Trump should be met everywhere he makes an appearance. Keep resisting, America.Featured image via screengrab\n",
      "\n"
     ]
    }
   ],
   "source": [
    "# Run the function with a sample query\n",
    "tfidf_search('deficit of New York')"
   ]
  },
  {
   "cell_type": "markdown",
   "id": "63ee5326-8d83-4e70-a91a-06647ae7383e",
   "metadata": {},
   "source": [
    "This TF-IDF search engine will serve as the baseline -- the benchmark against which we compare the semantic engine -- or, more accurately, *engines*.\n",
    "\n",
    "We will build two semantic search engines. One will be built with **pretrained embeddings**, downloaded from a popular package. And the second will be trained from scratch using **custom embeddings** built on our own dataset."
   ]
  },
  {
   "cell_type": "markdown",
   "id": "90dd60e6",
   "metadata": {},
   "source": [
    "## Building a semantic search engine with pretrained embeddings"
   ]
  },
  {
   "cell_type": "markdown",
   "id": "e7d1107c-1c2a-4351-80b0-29b6bcef42df",
   "metadata": {},
   "source": [
    "By using pretrained embeddings, this semantic search engine will be able to find synonyms and perform tip-of-the-tongue search -- allowing users to retrieve infromation even when they can't rememeber the exact words, just related concepts."
   ]
  },
  {
   "cell_type": "code",
   "execution_count": 21,
   "id": "831e911f-a5dd-44d4-b6a5-c5d53544bff3",
   "metadata": {},
   "outputs": [
    {
     "data": {
      "text/plain": [
       "'ex interpol chief say ready testify argentina fernandez buenos aire reuters argentina previous government never asked interpol drop arrest warrant group iranian accused bombing jewish center ex head police agency said wednesday government proceeded treason charge former president former interpol chief ronald noble said email wednesday want testify government former president cristina fernandez ask arrest warrant lifted part memorandum iran judge allows noble testify treason case filed month fernandez top official could crumble denies wrongdoing call charge politically motivated arrest warrant affected validity approval memorandum noble said email federal appeal court seen reuters fernandez administration always expressed belief warrant remain effect email said accusation fernandez government worked behind scene clear accused bomber amia jewish community center order improve trade argentina iran heart charge treason brought fernandez served president eight year succeeded mauricio macri others agreed treason charge fernandez appeared questionable indictment judge claudio bonadio former president fernandez foreign minister hector timerman others treason concealment point evidence would seem substantiate charge human right watch said statement tuesday allegation fernandez drew international attention january prosecutor initially made alberto nisman found shot dead bathroom buenos aire apartment argentine appeal court ordered opening investigation year ago nisman death classified suicide though official investigating case said shooting appeared homicide nisman body discovered hour brief congress bombing amia center nisman said fernandez worked behind scene clear iran wrongdoing normalize relation clinch grain oil deal tehran signed memorandum agreement created joint commission investigate amia bombing critic said really mean absolve iran'"
      ]
     },
     "execution_count": 21,
     "metadata": {},
     "output_type": "execute_result"
    }
   ],
   "source": [
    "# Need to create a matrix with one row per 5,000 documents\n",
    "# but just 300 columns, per the vectors -- this is a document features matrix\n",
    "# Start by grabbing the first document in 'corpus' and applying the clean_text function\n",
    "clean_text(corpus[0])"
   ]
  },
  {
   "cell_type": "code",
   "execution_count": 22,
   "id": "37fb4226-420b-472a-9577-44429577dee4",
   "metadata": {},
   "outputs": [
    {
     "data": {
      "text/plain": [
       "'ex'"
      ]
     },
     "execution_count": 22,
     "metadata": {},
     "output_type": "execute_result"
    }
   ],
   "source": [
    "# Worth noting, each word in the above output has an embedding vector\n",
    "# So, split that first document and then grab the first word\n",
    "clean_text(corpus[0]).split()[0]"
   ]
  },
  {
   "cell_type": "code",
   "execution_count": 23,
   "id": "e4fe3fd6-276c-4e08-bb5d-cfec4f8d73a1",
   "metadata": {},
   "outputs": [],
   "source": [
    "# Now retrieve the embedding for that first word, 'ex'\n",
    "# But first, import gensim and the Google News model again\n",
    "import gensim.downloader\n",
    "model = gensim.downloader.load('word2vec-google-news-300')"
   ]
  },
  {
   "cell_type": "code",
   "execution_count": 24,
   "id": "4f4c8288",
   "metadata": {},
   "outputs": [
    {
     "data": {
      "text/plain": [
       "array([-0.02172852,  0.20703125, -0.04931641, -0.10205078,  0.01879883,\n",
       "        0.32421875, -0.18945312, -0.05102539,  0.17480469,  0.08935547,\n",
       "        0.09619141, -0.23339844, -0.06298828,  0.03063965, -0.06103516,\n",
       "        0.25976562, -0.02099609, -0.11621094,  0.08886719,  0.03320312,\n",
       "        0.09228516,  0.04614258,  0.14257812,  0.08105469,  0.04980469,\n",
       "       -0.12988281, -0.45117188,  0.35742188, -0.08154297,  0.24023438,\n",
       "        0.23535156,  0.03442383, -0.20507812,  0.10449219,  0.1484375 ,\n",
       "       -0.00799561,  0.15429688, -0.06542969, -0.05078125,  0.06835938,\n",
       "        0.02185059, -0.421875  ,  0.12890625, -0.15039062, -0.10351562,\n",
       "       -0.21289062,  0.06591797, -0.1640625 , -0.01635742, -0.00222778,\n",
       "        0.04370117, -0.02905273, -0.07714844,  0.18359375, -0.24707031,\n",
       "       -0.00167084, -0.37695312,  0.07226562, -0.02087402,  0.19042969,\n",
       "        0.04492188,  0.06689453, -0.16308594,  0.15332031, -0.19628906,\n",
       "       -0.05786133,  0.08447266, -0.05932617,  0.09472656,  0.09375   ,\n",
       "        0.0859375 ,  0.10791016,  0.03491211,  0.12255859, -0.19921875,\n",
       "        0.18945312, -0.13085938,  0.27539062, -0.08056641, -0.00970459,\n",
       "        0.00909424, -0.09619141,  0.03198242, -0.10009766,  0.1796875 ,\n",
       "       -0.23535156, -0.13574219,  0.10253906, -0.1484375 , -0.11865234,\n",
       "       -0.08544922, -0.10595703, -0.04931641, -0.0045166 , -0.13085938,\n",
       "        0.09521484,  0.22753906,  0.02966309,  0.21875   , -0.02258301,\n",
       "       -0.18359375,  0.05981445,  0.18164062, -0.07958984,  0.16503906,\n",
       "        0.00592041,  0.22851562,  0.16992188,  0.12597656,  0.26367188,\n",
       "        0.10498047, -0.05615234, -0.05371094,  0.23242188, -0.16992188,\n",
       "        0.14453125,  0.0025177 , -0.14746094,  0.22363281,  0.09423828,\n",
       "        0.03564453,  0.13085938,  0.06176758, -0.04174805, -0.01220703,\n",
       "       -0.0213623 , -0.33984375, -0.22363281,  0.08544922,  0.03222656,\n",
       "        0.140625  , -0.26367188, -0.08056641,  0.37695312, -0.13769531,\n",
       "        0.0324707 , -0.08984375,  0.0534668 , -0.06982422,  0.17480469,\n",
       "        0.12597656,  0.19042969, -0.06298828, -0.10009766,  0.04833984,\n",
       "       -0.23730469, -0.16699219,  0.08203125,  0.17285156,  0.09960938,\n",
       "        0.23535156,  0.10595703,  0.00866699,  0.02038574, -0.0480957 ,\n",
       "        0.03393555, -0.16113281, -0.046875  ,  0.30078125, -0.12060547,\n",
       "        0.05517578,  0.19140625,  0.125     , -0.09570312, -0.01806641,\n",
       "        0.02124023,  0.09863281, -0.04638672, -0.16992188,  0.13964844,\n",
       "       -0.10693359, -0.17773438,  0.03491211, -0.13769531,  0.23242188,\n",
       "        0.03295898,  0.06347656, -0.04760742,  0.31835938, -0.1484375 ,\n",
       "       -0.02746582,  0.03442383,  0.12695312,  0.26171875,  0.09228516,\n",
       "       -0.05932617,  0.234375  ,  0.03930664,  0.08544922, -0.1171875 ,\n",
       "       -0.02514648,  0.02941895,  0.11279297,  0.00891113,  0.28515625,\n",
       "        0.19433594, -0.09326172, -0.09619141, -0.08984375,  0.125     ,\n",
       "        0.01733398, -0.00069809,  0.11181641, -0.05932617,  0.20410156,\n",
       "        0.00668335, -0.13476562,  0.14746094, -0.1484375 , -0.08496094,\n",
       "       -0.13085938,  0.0057373 ,  0.18164062,  0.2421875 , -0.02893066,\n",
       "        0.02026367, -0.01989746,  0.11181641, -0.28710938, -0.18457031,\n",
       "       -0.27148438, -0.12353516, -0.01342773,  0.09130859,  0.12695312,\n",
       "       -0.20703125,  0.00153351,  0.16796875, -0.03015137,  0.07763672,\n",
       "        0.09423828,  0.02734375,  0.00756836, -0.07128906,  0.07324219,\n",
       "        0.08203125, -0.11035156, -0.06176758, -0.25976562, -0.05029297,\n",
       "       -0.12304688,  0.09082031,  0.12988281, -0.01672363, -0.22753906,\n",
       "        0.16015625,  0.03088379,  0.08398438,  0.09912109, -0.05566406,\n",
       "        0.01501465,  0.0402832 ,  0.10400391,  0.21582031, -0.12597656,\n",
       "        0.09521484,  0.08203125,  0.11181641,  0.03222656,  0.03540039,\n",
       "        0.10986328, -0.02270508, -0.14648438,  0.22558594,  0.11132812,\n",
       "       -0.01104736, -0.3671875 ,  0.13964844, -0.02514648,  0.00970459,\n",
       "        0.08300781, -0.10302734,  0.00524902, -0.08251953,  0.15625   ,\n",
       "        0.08349609, -0.11474609,  0.15820312,  0.109375  ,  0.01708984,\n",
       "       -0.12402344, -0.15136719, -0.16601562,  0.08398438,  0.08984375,\n",
       "       -0.12353516, -0.41015625, -0.15234375,  0.37304688,  0.08349609,\n",
       "        0.18261719, -0.05517578, -0.20410156, -0.21289062, -0.07470703,\n",
       "       -0.22460938, -0.06982422,  0.07080078, -0.31445312,  0.03222656],\n",
       "      dtype=float32)"
      ]
     },
     "execution_count": 24,
     "metadata": {},
     "output_type": "execute_result"
    }
   ],
   "source": [
    "# And now use the .get_vector() method\n",
    "model.get_vector(clean_text(corpus[0]).split()[0])"
   ]
  },
  {
   "cell_type": "markdown",
   "id": "771f89b0",
   "metadata": {},
   "source": [
    "So how do we represent an entire document using word embeddings?\n",
    "\n",
    "Each word in the document has a 300-dimensional vector. The answer is to take the **average of all its word vectors** -- a simple but effective technique for capturing the document’s overall meaning.\n",
    "\n",
    "This logic will be built into a function called `doc_to_vec`."
   ]
  },
  {
   "cell_type": "code",
   "execution_count": 44,
   "id": "60cff1f2-9dff-48d0-9811-71f979e31028",
   "metadata": {},
   "outputs": [
    {
     "data": {
      "text/plain": [
       "\"Ex-Interpol chief says ready to testify for Argentina's Fernandez. BUENOS AIRES (Reuters) - Argentin\""
      ]
     },
     "execution_count": 44,
     "metadata": {},
     "output_type": "execute_result"
    }
   ],
   "source": [
    "# First need to work on a single document, let's grab the first document in corpus\n",
    "# And then display just the first 100 characters to make sure it all worked\n",
    "doc = corpus[0]\n",
    "doc[:100]"
   ]
  },
  {
   "cell_type": "code",
   "execution_count": 45,
   "id": "fae4f7e9-c09a-4a38-b625-4d238fb09850",
   "metadata": {},
   "outputs": [
    {
     "data": {
      "text/plain": [
       "['ex',\n",
       " 'interpol',\n",
       " 'chief',\n",
       " 'say',\n",
       " 'ready',\n",
       " 'testify',\n",
       " 'argentina',\n",
       " 'fernandez',\n",
       " 'buenos',\n",
       " 'aire']"
      ]
     },
     "execution_count": 45,
     "metadata": {},
     "output_type": "execute_result"
    }
   ],
   "source": [
    "# Split it, run 'clean_text' and save it as 'words'\n",
    "words = clean_text(doc).split()\n",
    "words[:10]"
   ]
  },
  {
   "cell_type": "code",
   "execution_count": 46,
   "id": "3876a1ca-2fe4-4313-bda8-25a0f3d56a95",
   "metadata": {},
   "outputs": [
    {
     "data": {
      "text/plain": [
       "array([0., 0., 0., 0., 0., 0., 0., 0., 0., 0., 0., 0., 0., 0., 0., 0., 0.,\n",
       "       0., 0., 0., 0., 0., 0., 0., 0., 0., 0., 0., 0., 0., 0., 0., 0., 0.,\n",
       "       0., 0., 0., 0., 0., 0., 0., 0., 0., 0., 0., 0., 0., 0., 0., 0., 0.,\n",
       "       0., 0., 0., 0., 0., 0., 0., 0., 0., 0., 0., 0., 0., 0., 0., 0., 0.,\n",
       "       0., 0., 0., 0., 0., 0., 0., 0., 0., 0., 0., 0., 0., 0., 0., 0., 0.,\n",
       "       0., 0., 0., 0., 0., 0., 0., 0., 0., 0., 0., 0., 0., 0., 0., 0., 0.,\n",
       "       0., 0., 0., 0., 0., 0., 0., 0., 0., 0., 0., 0., 0., 0., 0., 0., 0.,\n",
       "       0., 0., 0., 0., 0., 0., 0., 0., 0., 0., 0., 0., 0., 0., 0., 0., 0.,\n",
       "       0., 0., 0., 0., 0., 0., 0., 0., 0., 0., 0., 0., 0., 0., 0., 0., 0.,\n",
       "       0., 0., 0., 0., 0., 0., 0., 0., 0., 0., 0., 0., 0., 0., 0., 0., 0.,\n",
       "       0., 0., 0., 0., 0., 0., 0., 0., 0., 0., 0., 0., 0., 0., 0., 0., 0.,\n",
       "       0., 0., 0., 0., 0., 0., 0., 0., 0., 0., 0., 0., 0., 0., 0., 0., 0.,\n",
       "       0., 0., 0., 0., 0., 0., 0., 0., 0., 0., 0., 0., 0., 0., 0., 0., 0.,\n",
       "       0., 0., 0., 0., 0., 0., 0., 0., 0., 0., 0., 0., 0., 0., 0., 0., 0.,\n",
       "       0., 0., 0., 0., 0., 0., 0., 0., 0., 0., 0., 0., 0., 0., 0., 0., 0.,\n",
       "       0., 0., 0., 0., 0., 0., 0., 0., 0., 0., 0., 0., 0., 0., 0., 0., 0.,\n",
       "       0., 0., 0., 0., 0., 0., 0., 0., 0., 0., 0., 0., 0., 0., 0., 0., 0.,\n",
       "       0., 0., 0., 0., 0., 0., 0., 0., 0., 0., 0.])"
      ]
     },
     "execution_count": 46,
     "metadata": {},
     "output_type": "execute_result"
    }
   ],
   "source": [
    "# Then create a vector of 0's and for each word, add it to the vector and divide by the number of words!\n",
    "# Have to import numpy, create an array and then use the .vector_size method from model\n",
    "# And, finally, save it as 'vec'\n",
    "import numpy as np\n",
    "vec = np.zeros(model.vector_size)\n",
    "vec"
   ]
  },
  {
   "cell_type": "code",
   "execution_count": 47,
   "id": "67747f4f-4a7b-4a77-a198-cc5c74520df7",
   "metadata": {},
   "outputs": [],
   "source": [
    "# Now write a for loop for each word in vec, if the word is in the model, add it and then divide by the number\n",
    "# of additions\n",
    "for w in words:\n",
    "    if w in model:\n",
    "        vec += model.get_vector(w)"
   ]
  },
  {
   "cell_type": "code",
   "execution_count": 48,
   "id": "58d6cc0d-90c2-4c5a-8650-a5e978fce128",
   "metadata": {},
   "outputs": [
    {
     "data": {
      "text/plain": [
       "array([ -0.54648495,   5.94399261,  15.24498749,  -1.65078735,\n",
       "        -5.38089371,  -4.43889618,   9.56978607, -12.96095085,\n",
       "        21.75265503,   7.47306824])"
      ]
     },
     "execution_count": 48,
     "metadata": {},
     "output_type": "execute_result"
    }
   ],
   "source": [
    "# See how that worked, but just display the first 10 elements in the array to keep the output clean\n",
    "vec[:10]"
   ]
  },
  {
   "cell_type": "code",
   "execution_count": 49,
   "id": "f24f37f7-1a06-434a-9e7a-20aa5d902c2d",
   "metadata": {},
   "outputs": [],
   "source": [
    "# Now we have to divide by 'n', which isn't the length of the words because some aren't in the model,\n",
    "# but rather start at 0 and then add + 1 for each word in the model\n",
    "# So, now add this into the above for lopp\n",
    "n =0\n",
    "for w in words:\n",
    "    if w in model:\n",
    "        n+=1\n",
    "        vec += model.get_vector(w)"
   ]
  },
  {
   "cell_type": "code",
   "execution_count": 50,
   "id": "67e0f088-e881-4a8a-a98c-87c48bcfd0a5",
   "metadata": {},
   "outputs": [
    {
     "data": {
      "text/plain": [
       "array([ -1.09296989,  11.88798523,  30.48997498,  -3.30157471,\n",
       "       -10.76178741,  -8.87779236,  19.13957214, -25.9219017 ,\n",
       "        43.50531006,  14.94613647])"
      ]
     },
     "execution_count": 50,
     "metadata": {},
     "output_type": "execute_result"
    }
   ],
   "source": [
    "# Now check the output, or, at least, the first 10 elements\n",
    "vec[:10]"
   ]
  },
  {
   "cell_type": "code",
   "execution_count": 51,
   "id": "20de6af5-9be3-484c-9105-59066e5ba1b3",
   "metadata": {},
   "outputs": [],
   "source": [
    "# Now to add the division, if n is greater than 1, to get the average embedding\n",
    "if n > 1:\n",
    "    vec /= n"
   ]
  },
  {
   "cell_type": "code",
   "execution_count": 52,
   "id": "3932cb9b-8971-45d9-a5ab-8dd8d8634da5",
   "metadata": {},
   "outputs": [
    {
     "data": {
      "text/plain": [
       "array([-0.00473147,  0.05146314,  0.13199123, -0.01429253, -0.04658782,\n",
       "       -0.038432  ,  0.08285529, -0.11221602,  0.18833468,  0.06470189])"
      ]
     },
     "execution_count": 52,
     "metadata": {},
     "output_type": "execute_result"
    }
   ],
   "source": [
    "# Check the averages\n",
    "vec[:10]"
   ]
  },
  {
   "cell_type": "code",
   "execution_count": 53,
   "id": "f9dd269c-b851-4182-9c47-0daf1914a51f",
   "metadata": {},
   "outputs": [
    {
     "data": {
      "text/plain": [
       "231"
      ]
     },
     "execution_count": 53,
     "metadata": {},
     "output_type": "execute_result"
    }
   ],
   "source": [
    "# Check n, or the number of words in the model\n",
    "n"
   ]
  },
  {
   "cell_type": "code",
   "execution_count": 54,
   "id": "01110387-6ee4-4aff-8efd-7f912e91913f",
   "metadata": {},
   "outputs": [
    {
     "data": {
      "text/plain": [
       "244"
      ]
     },
     "execution_count": 54,
     "metadata": {},
     "output_type": "execute_result"
    }
   ],
   "source": [
    "# And check that against the number of words in the first corpus\n",
    "# As we see, this output shows us that 13 words didn't exist in the embedding model\n",
    "len(words)"
   ]
  },
  {
   "cell_type": "code",
   "execution_count": 55,
   "id": "48849eea-1fe0-4338-8d0b-ed3286edb642",
   "metadata": {},
   "outputs": [],
   "source": [
    "# And now to create the doc_to_vec function\n",
    "# This takes a document, it cleans it and splits the text, then  create a vector of 0's\n",
    "# and run the loop from above that finds the average embedding\n",
    "import numpy as np\n",
    "def doc_to_vec(doc):\n",
    "    words = clean_text(doc).split()\n",
    "    vec = np.zeros(model.vector_size)\n",
    "    n =0\n",
    "    for w in words:\n",
    "        if w in model:\n",
    "            n+=1\n",
    "            vec += model.get_vector(w)\n",
    "    if n > 1:\n",
    "        vec /= n\n",
    "    return vec"
   ]
  },
  {
   "cell_type": "code",
   "execution_count": 56,
   "id": "b2786b53-bc0c-4599-bdf2-8aef99e9145d",
   "metadata": {},
   "outputs": [
    {
     "data": {
      "text/plain": [
       "array([-0.00236574,  0.02573157,  0.06599562, -0.00714627, -0.02329391,\n",
       "       -0.019216  ,  0.04142765, -0.05610801,  0.09416734,  0.03235094,\n",
       "        0.00094525, -0.10188774, -0.05663897,  0.05454634, -0.11048407,\n",
       "        0.12240396,  0.05195611,  0.0305763 , -0.00822418, -0.04395149,\n",
       "        0.02717957, -0.00876832,  0.06016745,  0.00144615,  0.0555344 ,\n",
       "       -0.07885468, -0.02828024,  0.01021679, -0.01010204,  0.00117896,\n",
       "        0.02186994, -0.05381884, -0.04472397,  0.02414305, -0.00488717,\n",
       "        0.00897075,  0.05367006,  0.02855303,  0.00290052,  0.04421214,\n",
       "        0.01523024, -0.06157423,  0.08854659, -0.02685681, -0.03955939,\n",
       "       -0.07202905, -0.02628904, -0.03108334, -0.06978426,  0.07961201,\n",
       "        0.01632562, -0.01460577, -0.00936275,  0.0083045 , -0.03270064,\n",
       "        0.02789584, -0.09299268, -0.04247826, -0.00665045, -0.06149351,\n",
       "       -0.02748085,  0.0864182 , -0.05477596,  0.01050879, -0.04192663,\n",
       "       -0.01995803, -0.00390559,  0.02105683, -0.01258343,  0.02257237,\n",
       "        0.03446221,  0.02278745,  0.0615346 ,  0.04025249, -0.12864026,\n",
       "       -0.04657167,  0.06383623,  0.06268482,  0.06593637,  0.02148999,\n",
       "        0.05500797, -0.00591853,  0.03927351,  0.01245031,  0.00112902,\n",
       "       -0.08312053, -0.09255974,  0.07012213,  0.00844954,  0.03747717,\n",
       "        0.09714201, -0.04440209, -0.04277581, -0.03746327, -0.03485332,\n",
       "       -0.04125408,  0.05517913,  0.0240254 ,  0.03961869, -0.06027843,\n",
       "       -0.02692308, -0.00779648,  0.03816319,  0.01495949,  0.05674128,\n",
       "       -0.00150065, -0.03755439, -0.0314301 ,  0.02206406, -0.0592537 ,\n",
       "       -0.04722914, -0.03821276, -0.03449375,  0.01262285, -0.01017438,\n",
       "       -0.02439175, -0.00317726, -0.03209802,  0.1228095 ,  0.1024256 ,\n",
       "       -0.02934239,  0.04887417, -0.1042386 ,  0.04444603, -0.01304181,\n",
       "       -0.06228156,  0.00453757, -0.08374676,  0.06965264,  0.0320929 ,\n",
       "        0.00017838, -0.06131269, -0.00719449,  0.0132582 , -0.03950342,\n",
       "       -0.04113822,  0.00694655,  0.0148139 , -0.01001888,  0.05599487,\n",
       "        0.03113166, -0.00199268, -0.01797941, -0.01991074, -0.01956652,\n",
       "        0.03636704, -0.06149124, -0.02785142, -0.02554353, -0.03218865,\n",
       "        0.16326336,  0.03277476, -0.05496748,  0.02344822,  0.0224532 ,\n",
       "       -0.0311725 , -0.05099243, -0.03123401, -0.00368444,  0.00111667,\n",
       "       -0.00440444,  0.0245396 ,  0.07623963, -0.02953586,  0.01342055,\n",
       "       -0.04300046,  0.08160123, -0.03226778,  0.05319083,  0.02763418,\n",
       "       -0.03549667, -0.00513703, -0.00512041, -0.10216849,  0.00778614,\n",
       "       -0.0674181 ,  0.0878074 , -0.06386867, -0.00228294, -0.05357716,\n",
       "       -0.06071033, -0.03740968, -0.05591064, -0.06742463,  0.05150654,\n",
       "        0.00995108,  0.00498508,  0.023475  ,  0.03542159,  0.06381985,\n",
       "        0.01115441,  0.02966394,  0.01066731,  0.03636326,  0.0087631 ,\n",
       "        0.06670912,  0.00896008, -0.0118109 ,  0.00328275, -0.03250974,\n",
       "        0.00353604,  0.04260787,  0.00105296, -0.03341923,  0.03587123,\n",
       "       -0.01540412,  0.02615881,  0.01577057, -0.00511229, -0.03989787,\n",
       "       -0.0099552 ,  0.02291721, -0.00776464,  0.03460748, -0.06366918,\n",
       "        0.02051108,  0.03450177, -0.01512802, -0.11016998, -0.02971329,\n",
       "       -0.00951075, -0.00312776,  0.01233227,  0.06005542,  0.07333836,\n",
       "       -0.04770361,  0.06010757,  0.09705858,  0.05539753,  0.02755689,\n",
       "        0.04402293, -0.04260492, -0.06041255,  0.01393967,  0.0351255 ,\n",
       "       -0.01297405,  0.0660191 , -0.00268049,  0.06436025, -0.03947845,\n",
       "        0.03414405,  0.00604555, -0.03389993, -0.05571386, -0.0544824 ,\n",
       "        0.06284765, -0.03355365,  0.01880442,  0.05823687, -0.04720052,\n",
       "        0.03298755,  0.04503324,  0.00937841,  0.0371319 ,  0.10252387,\n",
       "       -0.01894382,  0.03403065,  0.02481447, -0.0042443 , -0.07667568,\n",
       "       -0.00042751,  0.00567647, -0.03428899,  0.02210239,  0.06727577,\n",
       "        0.14034047, -0.06126268, -0.03899832, -0.07669659, -0.04567329,\n",
       "        0.03011088,  0.05612624,  0.04390452, -0.01216426,  0.03627115,\n",
       "       -0.0044518 , -0.06387471, -0.05905853, -0.0193562 ,  0.01971178,\n",
       "       -0.04822238,  0.02056825, -0.00293946,  0.0623052 ,  0.00256016,\n",
       "       -0.01025315, -0.05468624,  0.04829076,  0.08750641,  0.01754781,\n",
       "       -0.03107368,  0.00717348, -0.03764997,  0.02746861, -0.04797225,\n",
       "       -0.00501403, -0.00943431, -0.07791119,  0.02072513,  0.03539616])"
      ]
     },
     "execution_count": 56,
     "metadata": {},
     "output_type": "execute_result"
    }
   ],
   "source": [
    "# Did it work??\n",
    "# Yep! This is the average embedding of each of the documents\n",
    "doc_to_vec(corpus[0])"
   ]
  },
  {
   "cell_type": "markdown",
   "id": "36929b07-b61b-43e4-8cee-64a014be3fac",
   "metadata": {},
   "source": [
    "Now, apply the `doc_to_vec` function to corpus to make the document-features matrix!"
   ]
  },
  {
   "cell_type": "markdown",
   "id": "735828fa",
   "metadata": {},
   "source": [
    "### Creating the document-features matrix"
   ]
  },
  {
   "cell_type": "markdown",
   "id": "82493b89",
   "metadata": {},
   "source": [
    "Now that we have the `doc_to_vec` function, we want a matrix with one row per document and 300 columns, or embeddings features."
   ]
  },
  {
   "cell_type": "code",
   "execution_count": 57,
   "id": "809d607e",
   "metadata": {},
   "outputs": [
    {
     "data": {
      "text/plain": [
       "array([[0., 0., 0., ..., 0., 0., 0.],\n",
       "       [0., 0., 0., ..., 0., 0., 0.],\n",
       "       [0., 0., 0., ..., 0., 0., 0.],\n",
       "       ...,\n",
       "       [0., 0., 0., ..., 0., 0., 0.],\n",
       "       [0., 0., 0., ..., 0., 0., 0.],\n",
       "       [0., 0., 0., ..., 0., 0., 0.]])"
      ]
     },
     "execution_count": 57,
     "metadata": {},
     "output_type": "execute_result"
    }
   ],
   "source": [
    "# Start by building the matrix from scratch, or creating a matrix of 0's\n",
    "# Note: This can be dense because it's only 300 features\n",
    "doc_embeddings_matrix = np.zeros((len(corpus), model.vector_size))\n",
    "doc_embeddings_matrix"
   ]
  },
  {
   "cell_type": "code",
   "execution_count": 62,
   "id": "01f34ced-b585-40ef-97dc-9f03a71c9fb8",
   "metadata": {},
   "outputs": [
    {
     "data": {
      "text/plain": [
       "(5000, 300)"
      ]
     },
     "execution_count": 62,
     "metadata": {},
     "output_type": "execute_result"
    }
   ],
   "source": [
    "# And confirm the shape, which will be one row per document and one column for each embedding feature\n",
    "doc_embeddings_matrix.shape"
   ]
  },
  {
   "cell_type": "code",
   "execution_count": 59,
   "id": "8c936732-526d-41e6-bbea-fce759eaec5f",
   "metadata": {},
   "outputs": [],
   "source": [
    "# Now to populate the matrix of 0's row-by-row\n",
    "for i in range(len(corpus)):\n",
    "    doc_embeddings_matrix[i,:] = doc_to_vec(corpus[i])"
   ]
  },
  {
   "cell_type": "code",
   "execution_count": 60,
   "id": "4397bba6-4fc1-45cc-97f8-eebc7181fcdb",
   "metadata": {},
   "outputs": [
    {
     "data": {
      "text/plain": [
       "array([[-0.00236574,  0.02573157,  0.06599562, ..., -0.07791119,\n",
       "         0.02072513,  0.03539616],\n",
       "       [-0.03122442,  0.09486838,  0.06432471, ..., -0.03230939,\n",
       "         0.03290488,  0.01085769],\n",
       "       [ 0.02205895,  0.02822519,  0.0260407 , ..., -0.07960629,\n",
       "         0.01159129,  0.03910882],\n",
       "       ...,\n",
       "       [ 0.04574295,  0.03951742,  0.07762926, ..., -0.05901357,\n",
       "         0.02745964,  0.01396595],\n",
       "       [ 0.03577278,  0.05002436,  0.06524986, ..., -0.04451846,\n",
       "         0.04804829,  0.03157182],\n",
       "       [-0.00676485,  0.03968262,  0.03376636, ...,  0.02053665,\n",
       "         0.05231315, -0.03880857]])"
      ]
     },
     "execution_count": 60,
     "metadata": {},
     "output_type": "execute_result"
    }
   ],
   "source": [
    "# See what 'doc_embeddings_mtrix' looks like now:\n",
    "# What the output shows us is the embeddings of the first document, then the second and so on\n",
    "doc_embeddings_matrix"
   ]
  },
  {
   "cell_type": "code",
   "execution_count": 61,
   "id": "48463fd8-b73e-4b9c-92ab-f1d1a8e6ce4f",
   "metadata": {},
   "outputs": [
    {
     "data": {
      "text/plain": [
       "300"
      ]
     },
     "execution_count": 61,
     "metadata": {},
     "output_type": "execute_result"
    }
   ],
   "source": [
    "# To that above point, the length of the embeddings for the first document\n",
    "# is, of course, 300\n",
    "len(doc_embeddings_matrix[0])"
   ]
  },
  {
   "cell_type": "markdown",
   "id": "d181dc48-1984-4ecb-8962-44b6a3c13227",
   "metadata": {},
   "source": [
    "**Worth pointing out**: Those numbers in the above **document-features matrix** are the average embeddings of the words that compose the documents. It's like a compression algorithm -- a semantic compression -- each document, which can be many words, is compressed into an array of 300 numbers. This compression is semantically charged, two similar documents with have similar vector representation -- just like how two similar words are close to each other."
   ]
  },
  {
   "cell_type": "markdown",
   "id": "75ce9b60",
   "metadata": {},
   "source": [
    "## Engineering the semantic search function"
   ]
  },
  {
   "cell_type": "markdown",
   "id": "9e254057-350b-410b-8990-110e0eebd719",
   "metadata": {},
   "source": [
    "This `semantic_search` function is ultimatley very similar to the `tfidf_search` function we built above. So, let's start revamping it."
   ]
  },
  {
   "cell_type": "code",
   "execution_count": 63,
   "id": "62de1c1b-4889-4d82-adc4-238804ab9140",
   "metadata": {},
   "outputs": [],
   "source": [
    "# Here's that tfidf_search function, once again, for review\n",
    "def tfidf_search(query):\n",
    "    qv = tfidf.transform([query])\n",
    "    sim = cosine_similarity(res,qv).reshape(res.shape[0])\n",
    "    indices = sim.argsort()\n",
    "    for i in range(10):\n",
    "        ind = indices[-i-1]\n",
    "        print(f'======= DOCUMENT {ind}, SIMILARITY {sim[ind]}')\n",
    "        print(corpus[ind] + '\\n')"
   ]
  },
  {
   "cell_type": "code",
   "execution_count": 64,
   "id": "50377c51",
   "metadata": {},
   "outputs": [],
   "source": [
    "# Now to rename it semantic_search and make some changes\n",
    "def semantic_search(query):\n",
    "    # 1. Turn the query from a string to embeddings, a vector of 300 with the doc_to_vec() method\n",
    "    qv = doc_to_vec(query)\n",
    "    # 2. Need to find the most similar documents, or those whose embeddings are most similar to those of the query\n",
    "    sim = cosine_similarity(doc_embeddings_matrix,qv).reshape(doc_embeddings_matrix.shape[0])\n",
    "    indices = sim.argsort()\n",
    "    for i in range(10):\n",
    "        ind = indices[-i-1]\n",
    "        print(f'======= DOCUMENT {ind}, SIMILARITY {sim[ind]}')\n",
    "        print(corpus[ind] + '\\n')"
   ]
  },
  {
   "cell_type": "code",
   "execution_count": 65,
   "id": "63604c62-fc98-47b7-85a6-748c41acc0c5",
   "metadata": {},
   "outputs": [],
   "source": [
    "# Time to see if it works\n",
    "# Commenting because this does NOT work, getting a Value Error\n",
    "# semantic_search('what does the president eat for lunch?')"
   ]
  },
  {
   "cell_type": "code",
   "execution_count": 66,
   "id": "e740c3d8-622c-4ec8-98f5-1c120d98fdaf",
   "metadata": {},
   "outputs": [],
   "source": [
    "# Now to account for the Value Error because Python didn't like that 'qv' had a single feature\n",
    "# So, need to reshape 'qv'\n",
    "def semantic_search(query):\n",
    "    # 1. Turn the query from a string to embeddings, a vector of 300 with the doc_to_vec() method and reshape 'qv'\n",
    "    qv = doc_to_vec(query).reshape(1,-1)\n",
    "    # 2. Need to find the most similar documents, or those whose embeddings are most similar to those of the query\n",
    "    sim = cosine_similarity(doc_embeddings_matrix,qv).reshape(doc_embeddings_matrix.shape[0])\n",
    "    indices = sim.argsort()\n",
    "    for i in range(10):\n",
    "        ind = indices[-i-1]\n",
    "        print(f'======= DOCUMENT {ind}, SIMILARITY {sim[ind]}')\n",
    "        print(corpus[ind] + '\\n')"
   ]
  },
  {
   "cell_type": "code",
   "execution_count": 67,
   "id": "a643b1ff-202d-4c31-97c2-4692549b66fd",
   "metadata": {},
   "outputs": [
    {
     "name": "stdout",
     "output_type": "stream",
     "text": [
      "======= DOCUMENT 689, SIMILARITY 0.510378106356117\n",
      "'Can I get it to go?' Canada's Trudeau charms  Manila while ordering fried chicken. MANILA (Reuters) - Canadian Prime Minister Justin Trudeau hopped from one table to the next, chatted with people and posed for selfies on Sunday at a fastfood chain store in Manila, charming residents of the Philippines capital for the second time in two years. Trudeau, in Manila for a summit of regional leaders, dropped in at an outlet of fastfood giant Jollibee Foods Corp  after a visit to a nearby women s clinic that advocates family planning, a touchy subject in the Catholic-majority Philippines. He greeted nearly everyone in the store, shaking hands and exchanging hugs with fans after ordering fried chicken and a strawberry float.  Can I get it to go? I ll eat it in the car,  Trudeau said, before going behind the counter for a photograph with Jollibee staff. Earlier, when he landed at Clark airport, a smiling Trudeau waded into a crowd of children gathered to greet dignitaries arriving for the summit, exchanging high fives and waving to others.  During his last visit to Manila, Trudeau won a Twitter poll with the hashtag #APEChottie that asked people to vote for the most attractive leader at the Asia Pacific Economic Cooperation summit in 2015.  He s so handsome! And he s very nice,  said 29-year-old Rina Aparicio, among the customers at the fastfood outlet.  I asked for a selfie and he said yes right away.  Outside the store, hundreds of people screamed and shouted  as Trudeau got into his car, waving what appeared to be hastily written placards saying  Welcome to the Philippines!  Trudeau visited the first Jollibee store in Winnipeg, Canada in January, a country with hundreds of thousands of Filipino immigrants. Jollibee, a $5 billion company that has been dubbed the McDonald s of the Philippines, is looking to go global with primary targets including China and the United States.  The company, which also serves burgers and sweet spaghetti, is opening another outlet in Winnipeg this month and plans are to increase that to 30 in five to 10 years, said Jose Minana, a Jollibee executive. Minana said the company did not seek out Trudeau for the visit, and said it was requested by Canadian officials.  We re very humbled by him taking time from his obviously busy schedule to give us a slice of his time,  said Minana.  I d like to also think that he enjoys the food.  \n",
      "\n",
      "======= DOCUMENT 1997, SIMILARITY 0.49855705362830116\n",
      "PRESIDENT TRUMP Goes Shopping…He’s a Hit!. The photos from President Trump s visit to the food storehouse for LDS families in need are great. President Donald Trump created quite a stir when he pushed a shopping cart down a food aisle at the LDS Church Bishops  Central Storehouse in Salt Lake City.The state-of-the-art facility from The Church of Jesus Christ of Latter-day Saints was built to better enable the church to help families in need.THUMBS UP! This is very exciting for me,  Trump added.  I know so many people that are in your church, the Latter-day Saints. The job you ve done is beyond anything you could think of   taking care of people the way you take care of people and the respect that you have all over the world. CHECKING HIS LISTTrump said Monday that he s pressing Sen. Orrin Hatch, R-Utah, who accompanied the president on his visit, to run for an eighth term, but when asked if he was trying to block Mitt Romney from running for the seat, the president was complimentary of the former GOP presidential nominee. He s a good man. Mitt s a good man,  he said, according to the Deseret News. But, without a doubt, the best part of the visit was photographs of Trump wheeling the full cart of food\n",
      "\n",
      "======= DOCUMENT 4270, SIMILARITY 0.49828447015028154\n",
      " Saudi Arabia Will Do Something Truly Disgusting In An Attempt To Accommodate Trump (DETAILS). This weekend, Donald Trump will visit Saudi Arabia   and the country is going out of its way to make him comfortable.Everyone knows that Donald Trump basically has the diet of an unhealthy toddler   he survives entirely on fast food and junk. It s previously been reported that Trump prefers burgers and meatloaf, Caesar salads and spaghetti, See s Candies and Diet Coke. And he shuns tea, coffee, and alcohol. This was a concern for the POTUS  first trip overseas, but Saudi Arabia has come to the rescue. During Trump s visit, he will be served steak   which Trump likes burnt to a crisp   with ketchup (his favorite) after all.The Associated Press reported on the preparations that must be made for Trump s visit, stating that there were extra steps that needed to be taken just for Trump: People with knowledge of the planning for Trump s trip say the caterers are planning to offer the president steak and ketchup alongside the lamb and hefty portions of rice on the menu. All the meat will have been butchered in a Shariah-compliant halal manner as per Islamic custom. And of course, Trump will probably still find a way to be difficult and ungrateful. The Associated Press wrote: Trump s hosts on his upcoming trip are well-aware of his aversion to travel and are trying to make accommodations to keep him happy. Even if things are going perfectly, we re sure Trump will find a way to complain. He has made outlandish requests before, and just recently canceled a trip to Israel because he wasn t allowed to land his helicopter on top of the mountain fortress of Masada. This kind of diva behavior is humiliating for the country, and we can bank on Trump have some sort of issue while he s overseas.Featured image via Win McNamee / Getty Images\n",
      "\n",
      "======= DOCUMENT 704, SIMILARITY 0.49118323790093754\n",
      " ‘Lunch Shaming’: Schools Punish Poor Kids Who Can’t Pay For Lunch With Appalling Humiliation (VIDEO). As we all know, there are many children in America who cannot afford school lunch. Some of these kids are  lucky  (and I use the term loosely) to qualify for free or reduced price school lunches. Others are not. To qualify for these government-sanctioned programs, the children have to be from a family whose income is no more than 30% above the poverty line. That means that a family of four can make no more than $32,000 a year to qualify. Any adult living in America today understands that this is a very difficult   in fact, damn near impossible   amount of money to live on. So, this leads to many children around the country going through the lunch line at school with the inability to pay. However, the tactics used to solve this issue are downright appalling, and they are being deployed all over the nation.A practice referred to as  lunch shaming  is being used to humiliate poor children around the nation for their inability to pay for their lunches. Some kids are stamped in the lunch line with stamps that say things like,  I need lunch money.  Others are forced to clean tables in the cafeteria in front of other students. Still others even have their hot lunches thrown out for their inability to pay.All this serves to do is humiliate already struggling children for things that are far beyond their control. Further, in the cases where the lunches are thrown out, the kids are forced to go hungry. Even worse, some of these kids only get fed at school, so that means that they are literally starving when their one source of food is denied to them.This kind of thing has lifelong effects. Luckily, New Mexico has become the first state to try to put a stop to the practice of lunch shaming. They have introduced legislation that would outlaw the practice, and would make it illegal to engage in any conversations regarding a student s ability to pay for lunch at school with anyone but the student s parents or guardians.The entire nation needs to follow in New Mexico s footsteps. The fact that this sort of thing is happening in the United States of America at all is disgraceful. We should all be ashamed.Watch the video report on this practice below, via AJ+ on Twitter:Children are being shamed for not having lunch money across the U.S. pic.twitter.com/4uSyIJYIGI  AJ+ (@ajplus) April 17, 2017Featured image via video screen capture\n",
      "\n",
      "======= DOCUMENT 3404, SIMILARITY 0.48733326860830367\n",
      "Rush for free food packets kills 10 at Bangladesh prayer meeting. DHAKA (Reuters) - Hundreds of people rushed to a Bangladeshi community centre prayer meeting to get free food packets on Monday, killing at least 10 people and injuring more than 50 in the crush, police said. The family of a former mayor in the southern port city of Chittagong had organised a prayer meet and offered the food packets in his memory.   We repeatedly announced on the loudspeaker that there are  adequate stock of foods at the centre, but when the gate was opened, hundreds of people tried to enter at the same time,  Devashis Paul, a local leader of the ruling Awami League party, said.   \n",
      "\n",
      "======= DOCUMENT 2911, SIMILARITY 0.4788595275619238\n",
      "OBAMA’S “VERY PICKY” About This One Thing In The White House…Trump Has A Different Outlook. According to the New York Post:President Obama is very particular about his   shower head. One thing that we were very aware of is the new president wanted a special shower head,  Stephen Rochon, the White House chief usher told CNN on Sunday, recalling when the Obamas moved into 1600 Pennsylvania Ave. And so we had to scramble to make sure we had the perfect rain shower head for President Obama. President-elect Trump has said he won t be giving the famous address a makeover.Trump will move into the White House Jan. 20, Inauguration Day.We re so lucky to have Trump in the Oval Office to clean up the mess from the past 8 years! He s going to slash and burn in his first 100 days in office. Honestly, who else is counting the minutes until Trump is inaugurated? We re ready! VIA: NYP\n",
      "\n",
      "======= DOCUMENT 626, SIMILARITY 0.476091575211516\n",
      "Trump aide Greenblatt returning to Israel for peace talks: official. WASHINGTON (Reuters) - President Donald Trump’s Middle East peace negotiator, Jason Greenblatt, is returning to Israel to “continue the peace track” after the president met with Israeli Prime Minister Benjamin Netanyahu and Palestinian President Mahmoud Abbas last week in New York, a White House official said on Sunday. “While President Trump had productive meetings with Prime Minister Netanyahu and President Abbas at the United Nations, we always said that the UN would not focus on peace conversations and that those conversations would be happening on a separate track,” the official said in a statement. “(Greenblatt) will have follow-up meetings in advance of a private trip in the region with his family for Sukkot. The meetings are part of the Administration’s quiet, steady discussions toward peace,” he said. Sukkot is a Jewish holiday. \n",
      "\n",
      "======= DOCUMENT 3789, SIMILARITY 0.47577925183365033\n",
      "Toned-down White House press dinner carries on without Trump. WASHINGTON (Reuters) - The White House press corps gathered on Saturday for its annual black-tie dinner, a toned-down affair this year after Donald Trump snubbed the event, becoming the first incumbent U.S. president to bow out in 36 years. Without Trump, who scheduled a rally instead to mark his 100th day in office, the usually celebrity-filled soiree hosted by the White House Correspondents’ Association took a more sober turn, even as it pulled in top journalists and Washington insiders. Most of Trump’s administration also skipped the event in solidarity with the president, who has repeatedly accused the press of mistreatment. The president used his campaign-style gathering to again lambaste the media.  “I could not possibly be more thrilled than to be more than 100 miles away,” he told a crowd in Harrisburg, Pennsylvania, calling out The New York Times, CNN and MSNBC by name. In Washington, WHCA President Jeff Mason defended press freedom even as he acknowledged this year’s dinner had a different feel, saying attempts to undermine the media was dangerous for democracy. “We are not fake news, we are not failing news organizations and we are not the enemy of the American people,” said Mason, a Reuters correspondent. Instead of the typical roasts - presidents of both parties have delivered their own zingers for years - the event returned to its traditional roots of recognizing reporters’ work and handing out student scholarships as famed journalists Bob Woodward and Carl Bernstein presented awards. “That’s not Donald Trump’s style,” NBC News’ Andrea Mitchell told MSNBC, referring to the self-deprecating jokes presidents in the past have made despite tensions with the press. Instead, the humor fell to headline comedian Hasan Minhaj. “Welcome to the series finale of the White House correspondents’ dinner,” Minhaj, who plays a correspondent on Comedy Central’s “The Daily Show” program, told the crowd. He also joked about Trump, despite organizers’ wishes, saying he did so to honor U.S. constitutional protection of free speech: “Only in America can a first-generation, Indian-American Muslim kid get on this stage and make fun of the president.” In a video message, actor Alec Baldwin, who has raised Trump’s ire playing him on NBC’s “Saturday Night Live” program also encouraged attendees. Few other celebrities graced the red carpet, although some well-known Washingtonians, such as former Secretary of State Madeleine Albright and Republican Representative Darrell Issa of California, appeared.  Trump attended in 2011, when then-President Barack Obama made jokes at the expense of the New York real estate developer and reality television show host. In an interview with Reuters this week, Trump said he decided against attending as president because he felt he had been treated unfairly by the media, adding: “I would come next year, absolutely.” In Pennsylvania, Trump told supporters the media dinner would be boring but was noncommittal on whether he would go in 2018 or hold another rally. Late night television show host Samantha Bee also hosted a competing event - “Not the White House Correspondents’ Dinner” - that she said would honor journalists, rather than skewer Trump. \n",
      "\n",
      "======= DOCUMENT 3083, SIMILARITY 0.4752816490277124\n",
      "REMEMBER WHEN WE HAD A COMMANDER IN CHIEF WHO REALLY LOVED AND RESPECTED OUR MILITARY?. Our military men and women never had to wonder if President George W. Bush cared about them Former Press Secretary for George W. Bush, Dana Perino, has a new book out about her tenure during the Bush Administration entitled,  And the Good News Is : Lessons and Advice from the Bright Side. One of the stories from the book is certainly raising some eyebrows about the former president. She describes a visit to Walter Reed military hospital by the then president during 2005. One of the men the president was visiting was a Marine who was in intensive care. What s his prognosis?  the president asked. Well, we don t know sir, because he s not opened his eyes since he arrived, so we haven t been able to communicate with him. But no matter what, Mr. President, he has a long road ahead of him,  said the CNO.The president and his aides then proceeded to carry out the purple heart ceremony for the young, unconscious marine.The Marine had just opened his eyes. I could see him from where I stood.The CNO held the medical team back and said,  Hold on, guys. I think he wants the president. The president jumped up and rushed over to the side of the bed. He cupped the Marine s face in his hands. They locked eyes, and after a couple of moments the president, without breaking eye contact, said to the military aide,  Read it again. So we stood silently as the military aide presented the Marine with the award for a second time. The president had tears dripping from his eyes onto the Marine s face. As the presentation ended, the president rested his forehead on the Marine s for a moment.Now everyone was crying, and for so many reasons: the sacrifice; the pain and suffering; the love of country; the belief in the mission; and the witnessing of a relationship between a soldier and his Commander in Chief that the rest of us could never fully grasp. (In writing this book, I contacted several military aides who helped me track down the name of the Marine. I hoped for news that he had survived. He did not. He died during surgery six days after the president s visit. He is buried at Arlington Cemetery and is survived by his wife and their three children.)Via: Controversial Times \n",
      "\n",
      "======= DOCUMENT 1528, SIMILARITY 0.4748388060715093\n",
      "AWESOME! SEAN SPICER Gives Trump’s Salary Away At Press Briefing [Video]. Zinke and Brandyburg accompanied Spicer to the podium on Monday   where the White House Press Secretary announced that President Donald Trump was donating the salary from his entire first quarter as president to the National Parks Service. It is my pleasure, on behalf of the President of the United States, to present a check for $78,333, to the Secretary of the Interior Ron Zinke, and superintendent of the Harpers Ferry Park Sites, superintendent Brandyburg,  Spicer said.https://www.youtube.com/watch?v=wRaLJumoAGoVia: Mediate\n",
      "\n"
     ]
    }
   ],
   "source": [
    "# See how it works now\n",
    "# Notice: The word 'lunch' doesn't appear right away but related words do\n",
    "semantic_search('what does the president eat for lunch?')"
   ]
  },
  {
   "cell_type": "markdown",
   "id": "20423258-479a-49bb-8d8d-37a356abca09",
   "metadata": {},
   "source": [
    "**To recap**: The semantic search engine takes the string in the query, it turns it into a 300-dimenstional vector, and then finds the most similar vector in the corpus."
   ]
  },
  {
   "cell_type": "markdown",
   "id": "ff30b09a",
   "metadata": {},
   "source": [
    "# Building a semantic search engine with custom-trained embeddings"
   ]
  },
  {
   "cell_type": "markdown",
   "id": "b201e407-f267-42fe-a8e5-0c1cc2e64368",
   "metadata": {},
   "source": [
    "What if we want to train embeddings on our own dataset?\n",
    "\n",
    "And what exactly does that mean? It means creating a new embedding model -- similar to the one we previously downloaded from Gensim -- but this time, we’ll train it ourselves on our own data. The resulting model will be tailored specifically to our dataset, not the Google News corpus."
   ]
  },
  {
   "cell_type": "code",
   "execution_count": 77,
   "id": "11943ce5-9bc4-4ea6-81b2-be58d44230b1",
   "metadata": {},
   "outputs": [],
   "source": [
    "# Start with import of the Word2Vec class\n",
    "from gensim.models import Word2Vec"
   ]
  },
  {
   "cell_type": "code",
   "execution_count": 78,
   "id": "f560e7e6-d8a8-44f6-853f-58e1647437c3",
   "metadata": {},
   "outputs": [],
   "source": [
    "# Need to create a list of lists for Word2Vec\n",
    "lol_corpus = [doc.split() for doc in corpus]"
   ]
  },
  {
   "cell_type": "code",
   "execution_count": 79,
   "id": "3b6c02eb-306c-4ff9-bd85-0a4802839cfa",
   "metadata": {},
   "outputs": [
    {
     "data": {
      "text/plain": [
       "['Ex-Interpol',\n",
       " 'chief',\n",
       " 'says',\n",
       " 'ready',\n",
       " 'to',\n",
       " 'testify',\n",
       " 'for',\n",
       " \"Argentina's\",\n",
       " 'Fernandez.',\n",
       " 'BUENOS']"
      ]
     },
     "execution_count": 79,
     "metadata": {},
     "output_type": "execute_result"
    }
   ],
   "source": [
    "# Check the first list, or just the first 10 elements to keep the output clean\n",
    "lol_corpus[0][:10]"
   ]
  },
  {
   "cell_type": "code",
   "execution_count": 80,
   "id": "9a17a822",
   "metadata": {},
   "outputs": [],
   "source": [
    "# Need to clean the list with the clean_text function\n",
    "lol_corpus = [clean_text(doc).split() for doc in corpus]"
   ]
  },
  {
   "cell_type": "code",
   "execution_count": 81,
   "id": "e2b37468",
   "metadata": {},
   "outputs": [
    {
     "data": {
      "text/plain": [
       "['ex',\n",
       " 'interpol',\n",
       " 'chief',\n",
       " 'say',\n",
       " 'ready',\n",
       " 'testify',\n",
       " 'argentina',\n",
       " 'fernandez',\n",
       " 'buenos',\n",
       " 'aire']"
      ]
     },
     "execution_count": 81,
     "metadata": {},
     "output_type": "execute_result"
    }
   ],
   "source": [
    "# Check the results\n",
    "lol_corpus[0][:10]"
   ]
  },
  {
   "cell_type": "code",
   "execution_count": 84,
   "id": "6f3c1e59-b241-4599-96d2-b8fac7fa3c8b",
   "metadata": {},
   "outputs": [
    {
     "data": {
      "text/plain": [
       "<gensim.models.word2vec.Word2Vec at 0x501eebdd0>"
      ]
     },
     "execution_count": 84,
     "metadata": {},
     "output_type": "execute_result"
    }
   ],
   "source": [
    "# Train a Word2Vec model on our tokenized corpus\n",
    "# Set vector_size to 300, so that each word will be represented as a 300-dimension vector\n",
    "# Set window=3 to define the context window, or how many words before and after to consider\n",
    "# Use workers=4 to make it 4 times as fast\n",
    "m = Word2Vec(lol_corpus, vector_size=300, window=3, workers=4)\n",
    "m"
   ]
  },
  {
   "cell_type": "code",
   "execution_count": 85,
   "id": "c50f8bbe-8e03-40b6-ad58-ce0c03f4d0df",
   "metadata": {},
   "outputs": [],
   "source": [
    "# To get the model, take a wv of the object m\n",
    "mymodel = m.wv"
   ]
  },
  {
   "cell_type": "code",
   "execution_count": 86,
   "id": "3958ec9a-a0aa-4fe4-b614-9e4eb93c4e5e",
   "metadata": {},
   "outputs": [
    {
     "data": {
      "text/plain": [
       "<gensim.models.keyedvectors.KeyedVectors at 0x501b48f20>"
      ]
     },
     "execution_count": 86,
     "metadata": {},
     "output_type": "execute_result"
    }
   ],
   "source": [
    "# Display mymodel\n",
    "mymodel"
   ]
  },
  {
   "cell_type": "code",
   "execution_count": 87,
   "id": "f767da5d-b16e-4408-89c1-604ae6199855",
   "metadata": {},
   "outputs": [
    {
     "data": {
      "text/plain": [
       "array([ 0.05456392, -0.80775434,  0.66254705, -0.23936757,  0.36111695,\n",
       "        0.5756765 ,  0.47005334,  0.35943198,  0.25090083, -1.1076299 ],\n",
       "      dtype=float32)"
      ]
     },
     "execution_count": 87,
     "metadata": {},
     "output_type": "execute_result"
    }
   ],
   "source": [
    "# Note: The above model or 'mymodel' has all the methods we've seen above with the pretrained models\n",
    "# So, for instance, can get the vector for a specific word\n",
    "# Only display the first 10 elements to keep the output clean\n",
    "mymodel.get_vector('president')[:10]"
   ]
  },
  {
   "cell_type": "markdown",
   "id": "0463bb21-e3f8-4b6e-b219-3c083fb3f7f1",
   "metadata": {},
   "source": [
    "Now that we have a model,we need to build a document-features matrix and run a search engine on top of it. We'll start by reusing the structure from earlier -- just updated to use our new Word2Vec model.\n",
    "\n",
    "First up: define a fresh version of the `doc_to_vec` function -- we’ll call it `doc_to_vec2` -- that computes the average vector for each document."
   ]
  },
  {
   "cell_type": "code",
   "execution_count": 89,
   "id": "72229710",
   "metadata": {},
   "outputs": [],
   "source": [
    "# Here's the doc_to_vec2 function\n",
    "# Note: It's now 'mymodel'\n",
    "import numpy as np\n",
    "def doc_to_vec2(doc):\n",
    "    words = clean_text(doc).split()\n",
    "    vec = np.zeros(mymodel.vector_size)\n",
    "    n=0\n",
    "    for w in words:\n",
    "        if w in mymodel:\n",
    "            n+=1\n",
    "            vec += mymodel.get_vector(w)\n",
    "    if n > 1:\n",
    "        vec /= n\n",
    "    return vec"
   ]
  },
  {
   "cell_type": "markdown",
   "id": "cbca02cc",
   "metadata": {},
   "source": [
    "### Creating (another) document-features matrix"
   ]
  },
  {
   "cell_type": "markdown",
   "id": "64a66213",
   "metadata": {},
   "source": [
    "Just like before, we want a matrix with one row per document and 300 columns -- one for each embedding feature. But this time, we're using vectors from our custom-trained Word2Vec model instead of the pretrained one."
   ]
  },
  {
   "cell_type": "code",
   "execution_count": 90,
   "id": "865443d4",
   "metadata": {},
   "outputs": [
    {
     "data": {
      "text/plain": [
       "array([[0., 0., 0., ..., 0., 0., 0.],\n",
       "       [0., 0., 0., ..., 0., 0., 0.],\n",
       "       [0., 0., 0., ..., 0., 0., 0.],\n",
       "       ...,\n",
       "       [0., 0., 0., ..., 0., 0., 0.],\n",
       "       [0., 0., 0., ..., 0., 0., 0.],\n",
       "       [0., 0., 0., ..., 0., 0., 0.]])"
      ]
     },
     "execution_count": 90,
     "metadata": {},
     "output_type": "execute_result"
    }
   ],
   "source": [
    "# This will be called doc_embeddings_matrix2\n",
    "# Note: Once again, it's updated to 'mymodel'\n",
    "doc_embeddings_matrix2 = np.zeros((len(corpus),mymodel.vector_size))\n",
    "doc_embeddings_matrix2"
   ]
  },
  {
   "cell_type": "code",
   "execution_count": 91,
   "id": "7e63944c-5f1d-483f-b750-b3e2f2396cd0",
   "metadata": {},
   "outputs": [
    {
     "data": {
      "text/plain": [
       "(5000, 300)"
      ]
     },
     "execution_count": 91,
     "metadata": {},
     "output_type": "execute_result"
    }
   ],
   "source": [
    "# Check the shape\n",
    "doc_embeddings_matrix2.shape"
   ]
  },
  {
   "cell_type": "code",
   "execution_count": 94,
   "id": "02a1c3d7-2d22-47fa-bf5c-186ac78bdad8",
   "metadata": {},
   "outputs": [],
   "source": [
    "# Then, for each document in the corpus, set the i-th line of the matrix equal to doc_to_vec2 for corpus document i\n",
    "for i in range(len(corpus)):\n",
    "    doc_embeddings_matrix2[i,:] = doc_to_vec2(corpus[i])"
   ]
  },
  {
   "cell_type": "code",
   "execution_count": 93,
   "id": "b65b3a51-e55e-4e1b-a264-e2a5d60c999a",
   "metadata": {},
   "outputs": [
    {
     "data": {
      "text/plain": [
       "array([[ 0.06729469,  0.16997326, -0.09481063, ..., -0.13429278,\n",
       "         0.02676992,  0.05866554],\n",
       "       [-0.08530327,  0.43262977, -0.18977185, ...,  0.00408701,\n",
       "        -0.10635933, -0.0875218 ],\n",
       "       [ 0.10422009,  0.24829183, -0.03545439, ..., -0.03133481,\n",
       "         0.07109447,  0.15943093],\n",
       "       ...,\n",
       "       [ 0.10370929,  0.18866114,  0.06195659, ..., -0.0369685 ,\n",
       "         0.06524089, -0.04617735],\n",
       "       [ 0.14721203,  0.13671954, -0.07118182, ..., -0.06210374,\n",
       "        -0.06724542,  0.0848758 ],\n",
       "       [ 0.06078459,  0.14632636, -0.13052803, ..., -0.06495154,\n",
       "         0.0097929 ,  0.01151082]])"
      ]
     },
     "execution_count": 93,
     "metadata": {},
     "output_type": "execute_result"
    }
   ],
   "source": [
    "# Check the results\n",
    "doc_embeddings_matrix2"
   ]
  },
  {
   "cell_type": "markdown",
   "id": "45fe1598-a5c0-4b91-82fe-03018b32411b",
   "metadata": {},
   "source": [
    "Matrix built -- same shape, new engine."
   ]
  },
  {
   "cell_type": "markdown",
   "id": "d4f69926",
   "metadata": {},
   "source": [
    "## Re-engineering the semantic search function"
   ]
  },
  {
   "cell_type": "markdown",
   "id": "4329a9b7-fd81-4068-b689-f18d895c2cb1",
   "metadata": {},
   "source": [
    "Now to modify the `'semantic_search` and rename it `semantic_search2`!"
   ]
  },
  {
   "cell_type": "code",
   "execution_count": 96,
   "id": "c0dfdb7d-5a23-4391-8938-c08514604b44",
   "metadata": {},
   "outputs": [],
   "source": [
    "# This is built on top of the original, but, of coruse, it has been renamed and updated\n",
    "# with 'doc_to_vec2' and 'doc_embeddings_matrix2'\n",
    "def semantic_search2(query):\n",
    "    # 1. turn the query from a string to embeddings\n",
    "    qv = doc_to_vec2(query).reshape(1, -1)\n",
    "    # 2. find the documents whose embeddings are most similar to those of the query\n",
    "    sim = cosine_similarity(doc_embeddings_matrix2,qv).reshape(doc_embeddings_matrix2.shape[0])\n",
    "    indices = sim.argsort()\n",
    "    for i in range(10):\n",
    "        ind = indices[-i-1]\n",
    "        print(f'======= DOCUMENT {ind}, SIMILARITY {sim[ind]}')\n",
    "        print(corpus[ind] + '\\n')"
   ]
  },
  {
   "cell_type": "code",
   "execution_count": 97,
   "id": "d9d430eb-9dd6-4a9e-b8a4-25004fc334a9",
   "metadata": {},
   "outputs": [
    {
     "name": "stdout",
     "output_type": "stream",
     "text": [
      "======= DOCUMENT 190, SIMILARITY 0.8237499032018556\n",
      "LIVE FEED: PRESIDENT TRUMP Speaks At CPAC – 10:00 a.m. EST.  \n",
      "\n",
      "======= DOCUMENT 3083, SIMILARITY 0.7771356849571065\n",
      "REMEMBER WHEN WE HAD A COMMANDER IN CHIEF WHO REALLY LOVED AND RESPECTED OUR MILITARY?. Our military men and women never had to wonder if President George W. Bush cared about them Former Press Secretary for George W. Bush, Dana Perino, has a new book out about her tenure during the Bush Administration entitled,  And the Good News Is : Lessons and Advice from the Bright Side. One of the stories from the book is certainly raising some eyebrows about the former president. She describes a visit to Walter Reed military hospital by the then president during 2005. One of the men the president was visiting was a Marine who was in intensive care. What s his prognosis?  the president asked. Well, we don t know sir, because he s not opened his eyes since he arrived, so we haven t been able to communicate with him. But no matter what, Mr. President, he has a long road ahead of him,  said the CNO.The president and his aides then proceeded to carry out the purple heart ceremony for the young, unconscious marine.The Marine had just opened his eyes. I could see him from where I stood.The CNO held the medical team back and said,  Hold on, guys. I think he wants the president. The president jumped up and rushed over to the side of the bed. He cupped the Marine s face in his hands. They locked eyes, and after a couple of moments the president, without breaking eye contact, said to the military aide,  Read it again. So we stood silently as the military aide presented the Marine with the award for a second time. The president had tears dripping from his eyes onto the Marine s face. As the presentation ended, the president rested his forehead on the Marine s for a moment.Now everyone was crying, and for so many reasons: the sacrifice; the pain and suffering; the love of country; the belief in the mission; and the witnessing of a relationship between a soldier and his Commander in Chief that the rest of us could never fully grasp. (In writing this book, I contacted several military aides who helped me track down the name of the Marine. I hoped for news that he had survived. He did not. He died during surgery six days after the president s visit. He is buried at Arlington Cemetery and is survived by his wife and their three children.)Via: Controversial Times \n",
      "\n",
      "======= DOCUMENT 3278, SIMILARITY 0.7646209100084025\n",
      "LIVE FEED-LIVE CHAT: PRESIDENT TRUMP Addresses A Joint Session Of Congress – 9:10 pm ET [Video].  \n",
      "\n",
      "======= DOCUMENT 2826, SIMILARITY 0.7423130079366402\n",
      "LOL! CHUCKIE SCHUMER WARNS TRUMP Is “In Trouble” For Accusing Obama Of Wiretapping Trump Towers…What Schumer Says Next Is HILARIOUS!. The top Democrat in the Senate, Chuck Schumer (NY), claimed Sunday that President Trump is  in trouble,  a stern warning that came a day after the commander-in-tweet claimed President Obama wiretapped him.Citing President Obama s denial that he ordered a wiretap of Trump, Schumer said,  Either way   the president s in trouble. If he falsely spread this kind of misinformation, that is so wrong. It s beneath the dignity of the presidency. It is something that really hurts people s view of government,  he said.Yeah, because making the embarrassing, race-baiter-for-hire Al Sharpton a regular visitor at the White House is somehow not beneath the dignity of the presidency? You mean like taking  selfies  during the funeral of one of the greatest civil rights leaders in the world? Or traveling to Cuba to hang out at a baseball game with Raul Castro, who along with his brother are some of the most brutal dictators in the world?Were Watergate reporters Bob Woodward and Carl Bernstein shamed for making  government look bad  when they uncovered the wire-tapping done by President Nixon? He deserved it? Really Chuck? Because he was running against Hillary Clinton or because he was simply on the wrong team? If he were a Democrat, would have have deserved it? On the other hand, if it s true, it s even worse for the president. Because that means that a federal judge, independently elected, has found probable cause that the president, or people on his staff, have probable cause to have broken the law or to have interacted with a foreign agent,  New York s senior senator claimed.  NYP \n",
      "\n",
      "======= DOCUMENT 3416, SIMILARITY 0.7422763665870529\n",
      "FIRST FAMILY FATHER’S DAY: “Rustic” Camp David with the In-Laws [Video]. Did President Trump visit Camp David this Father s Day weekend to give his Secret Service detail the weekend off? Former President George Bush was known to do the same at Christmas. We know President Trump isn t a huge fan of Camp David calling it  rustic  earlier this year. The First Family waved  to photographers as they left the White House. President Trump looked dapper in a navy suit while Melania wore a $1,795 belted white shirt dress that was belted at the waist.THIS IS A SHOCKER: VOGUE MAGAZINE gave Melania a thumbs up review on her casual style for the trip to Camp David. They described the Gabriella Hearst dress she wore as a softly tailored silhouette  paired with  comfortable shoes.Barron Trump showed off Arsenal Football Club shorts. Barron was seen earlier kicking a soccer ball around on the White House grounds.The First Family joined Melania Trump s parents, Viktor and Amalija Knavs, for the overnight at Camp David after they accompanied Melania and Barron on their official move to the White House.This is not President Trump s usual getaway spot. He usually goes to his golf club in Bedminster, NJ or Mar a Lago in Palm Beach, Florida for a round of golf and a weekend stay.Camp David has been called  rustic  by the president who favors a more formal setting. His honesty about this government-owned retreat in Maryland s Catoctin Mountains is refreshing and funny. He told the foreign press earlier this year: You know how long you d like it? For about 30 minutes.   Can t you just see the wheels turning for an upgrade to  rustic  Camp David. \n",
      "\n",
      "======= DOCUMENT 2911, SIMILARITY 0.7410142492058087\n",
      "OBAMA’S “VERY PICKY” About This One Thing In The White House…Trump Has A Different Outlook. According to the New York Post:President Obama is very particular about his   shower head. One thing that we were very aware of is the new president wanted a special shower head,  Stephen Rochon, the White House chief usher told CNN on Sunday, recalling when the Obamas moved into 1600 Pennsylvania Ave. And so we had to scramble to make sure we had the perfect rain shower head for President Obama. President-elect Trump has said he won t be giving the famous address a makeover.Trump will move into the White House Jan. 20, Inauguration Day.We re so lucky to have Trump in the Oval Office to clean up the mess from the past 8 years! He s going to slash and burn in his first 100 days in office. Honestly, who else is counting the minutes until Trump is inaugurated? We re ready! VIA: NYP\n",
      "\n",
      "======= DOCUMENT 3637, SIMILARITY 0.7364533883656457\n",
      "33-Yr Old Skier LINDSEY VONN Says She Won’t Represent President Trump At Upcoming Olympics. Has there ever been a US Olympic athlete who, before representing the United States in the Olympic games, discussed whether or not they would be  representing  our President? Aren t the U.S. Olympic athletes made aware fairly early on, that they re representing our nation? I don t remember ever seeing any of our athletes carrying a flag with a picture of the President of the United States, or wearing apparel covered with the President s image or name. So why is Lindsey Vonn making a statement about how she s not going to be representing President Trump? Does anyone really care about Lindsey Vonn s opinion about President Trump? FOX News  Olympic gold medal skier Lindsey Vonn says she ll represent the United States, but not President Trump, when she returns to the Winter Games in February.Vonn, who won a gold medal in the women s downhill competition in 2010 in Vancouver, skipped the 2014 Sochi games because of knee injuries. I hope to represent the people of the United States, not the president,  Vonn said this week amid the buildup to the 2018 games in PyeongChang, South Korea. I take the Olympics very seriously and what they mean and what they represent, what walking under our flag means in the opening ceremonies,  she added. I want to represent our country well, and I don t think there are a lot of people currently in our government that do that. Vonn also told CNN that she would  absolutely not  accept an invitation to the White House.Isn t this really more about a former Olympic athlete with an over-inflated ego and an overblown sense of how important her opinions are to the American people than anything else? \n",
      "\n",
      "======= DOCUMENT 162, SIMILARITY 0.735906054651948\n",
      " WATCH: Florida Gov. Rick Scott Disrespects President Obama, Calls Trump After Fort Lauderdale Mass Shooting. Rather than call the sitting president who could actually help him, Florida Governor Rick Scott dissed President Obama by calling Donald Trump instead.On Friday, a gunman entered the Fort Lauderdale-Hollywood International Airport and killed five people while wounded eight others. The incident unfolded throughout the afternoon and police finally took the shooter into custody.When a tragedy like this occurs, a governor usually makes a phone call to the White House to speak to the president. But Florida Governor Rick Scott disrespected President Obama and contacted Trump to speak with him and Mike Pence about the situation.Scott went out of his way to mention that to reporters and seemed to suggest that President Obama should have reached out to him.The Scott dodged follow-up questions from reporters about his disrespect towards the sitting president by claiming that now isn t the time for politics, even though shunning President Obama while speaking to Donald Trump is clearly political.Here s the video via Twitter.Florida Gov. Rick Scott says he has reached out to Trump and Pence since the shooting, but not POTUS. pic.twitter.com/y8iVykaxV3  ABC News Politics (@ABCPolitics) January 6, 2017So Rick Scott chose to keep Trump and Pence informed but not the one man who can actually do something to assist Florida during this tough time? Seriously?!Republicans have been disrespecting President Obama for eight years and with 14 days left until Inauguration Day, one would think that Republicans would at least be more respectful. But no, they would rather continue hypocritically calling for unity behind Trump and asking everyone to respect Trump while continuing to disrespect the sitting President of the United States. They would rather pretend that Trump is already president. Republicans couldn t even show respect to President Obama in the wake of a mass shooting and used it to as opportunity to insult him.This is the last straw. In no uncertain terms should Democrats step one toe across the aisle to work with Republicans over the next four years and Trump deserves to be disrespected at all times no matter what. Turnabout is fair play. All of Trump s nominees should be blocked and his agenda obstructed 24 hours a day, seven days a week, 365 days a year for ALL four years. If disrespect is what Republicans want, then that s what they should get.And people were NOT happy about Rick Scott talking to Trump instead of President Obama like he should have done.@ABCPolitics PRESIDENT is BARACK OBAMA  the only one with legal authority to do anything at this point.  Deepen Gandhi (@deepen915) January 6, 2017@ABCPolitics Not time to be political so @FLGovScott why the hell would you call Trump and not the current sitting President?  Ycp45 (@PakYong45) January 6, 2017@ABCPolitics @ABC7NY moments like this politics should be put aside. Governor of Florida should have reached out to POTUS before Trump  Chris Winkelman (@mpngirl) January 6, 2017@ABCPolitics such a hypocrite , he says it s not time for politics so why not reach out to POTUS? He is still the president .  Alice Fiona N (@AliceFionaN) January 6, 2017@ABCPolitics @ABC7NY So, #RickScott reached 2 #PEOTUS and not #POTUS. Interesting. Ressources needed can wait 14d I guess. #FortLauderdale  DocGM (@DocGMleMollah) January 6, 2017@ABCPolitics @ABC7NY how disrespectful. The office demands respect. Even if u don t like the person  Zaida (@Saida11660) January 6, 2017@ABCPolitics Unbelievable and distasteful  Maggio 2028   (@Haus_Of_Maggio) January 6, 2017@ABCPolitics @GMA what an ignorant Governor! Does not know to contact the President! As if the President would not take his call. Shameful.  SBR (@sbr255) January 6, 2017This country only has one president at a time and President Obama still has 14 days left. The only thing Rick Scott did is divide America even more today at a time when Fort Lauderdale needed us to come together. But Scott would rather suck up to Trump instead of getting immediate help for his state. Sad.Featured image via Joe Raedle/Getty Images\n",
      "\n",
      "======= DOCUMENT 4949, SIMILARITY 0.7357516185418174\n",
      "UNREAL! OBAMA TAKES SHOT AT TRUMP With Approving Nod From Germany’s Merkel [Video]. Obama took a veiled shot at President Trump that was beyond tacky. He needs to move on but just can t let being president go. He s been trolling Trump throughout the president s trip to Europe. It s the shadow government working its way into the current administration. Listen to this jackwagon take a shot at President Trump with nodding approval from Germany s Merkel:Merkel and Obama have no business giving advice on immigration and walls. Both have betrayed their people with open borders. Shame on them!OBAMA NEEDS TO GO OFF INTO THE SUNSET HIS TIME IS OVER!\n",
      "\n",
      "======= DOCUMENT 4489, SIMILARITY 0.734584842912958\n",
      "PRESIDENT TRUMP AND MELANIA Arrive in Poland to Cheering Crowds [Video]. The President and First Lady touched down in Warsaw, Poland today for a visit before traveling to Hamburg, Germany. They ll be in Hamburg for the G20 Summit where Trump is expected to meet Russian President Vladimir Putin for the first time and discuss the nuclear threat of North Korea with world leaders. As they stepped off of the plane, Melania appeared in a beautiful green coat . She never misses! GO TO THE 10:15 MARK FOR THEIR DEPLANING:THE FIRST LADY WAVES AFTER ARRIVING IN WARSAW, POLAND:Melania Trump waves after arriving in Warsaw, Poland. How can anyone not love our First Lady? pic.twitter.com/6821k3dH2T  Tennessee (@TEN_GOP) July 5, 2017POLISH CROWDS CHEERING AS PRESIDENT TRUMP ARRIVES IN WARSAW: CROWDS LINED THE ENTIRE ROUTE!Polish Crowds Cheering as President Trump Arrives in Warsaw pic.twitter.com/TGCHfb7Blc  Jack Posobiec   (@JackPosobiec) July 5, 2017A FULL MILITARY ESCORT IN POLAND:The First Couple will leave Germany for Paris and Bastille Day ceremonies next Friday. We re looking forward to watching President trump move amongst world leaders. We have to admit that it s also going to be fun to see what the First Lady is wearing each time she makes a public appearance.\n",
      "\n"
     ]
    }
   ],
   "source": [
    "# Time to test it out\n",
    "semantic_search2('what does the president eat for lunch?')"
   ]
  },
  {
   "cell_type": "markdown",
   "id": "8fa230c9-72b6-4ea2-8f23-943013d8fc73",
   "metadata": {},
   "source": [
    "Uhoh! The search engine doesn't seem to be working too well. Need to figure out why."
   ]
  },
  {
   "cell_type": "markdown",
   "id": "62898d9d",
   "metadata": {},
   "source": [
    "## Comparing the search engines and crowning an unexpected winner"
   ]
  },
  {
   "cell_type": "markdown",
   "id": "158db8be-e702-4d2f-8fab-ba49900fd3fc",
   "metadata": {},
   "source": [
    "Now to compare the three search engines. And, perhaps, crown an unlikely winner:\n",
    "1. The TF-IDF search engine\n",
    "2. The semantic search engine with pretrained embeddings\n",
    "3. The semantic search engine with custom-trained embeddings"
   ]
  },
  {
   "cell_type": "code",
   "execution_count": 102,
   "id": "fec14231",
   "metadata": {},
   "outputs": [],
   "source": [
    "# Start with the same query and run it through each of the three search engines\n",
    "query = 'what does the president eat for lunch?'"
   ]
  },
  {
   "cell_type": "markdown",
   "id": "37af47ba-21e6-4d2d-94ea-4ad9482c03f8",
   "metadata": {},
   "source": [
    "### The TF-IDF search engine"
   ]
  },
  {
   "cell_type": "markdown",
   "id": "56fe9cbb-a3bc-49fb-b65b-bae7ebb61e86",
   "metadata": {},
   "source": [
    "We start with a simple bag-of-words baseline. It scans the corpus for documents that match individual terms from the query -- no understanding of meaning, just raw frequency."
   ]
  },
  {
   "cell_type": "code",
   "execution_count": 103,
   "id": "dbcf95c4",
   "metadata": {},
   "outputs": [
    {
     "name": "stdout",
     "output_type": "stream",
     "text": [
      "======= DOCUMENT 704, SIMILARITY 0.33174321875279694\n",
      " ‘Lunch Shaming’: Schools Punish Poor Kids Who Can’t Pay For Lunch With Appalling Humiliation (VIDEO). As we all know, there are many children in America who cannot afford school lunch. Some of these kids are  lucky  (and I use the term loosely) to qualify for free or reduced price school lunches. Others are not. To qualify for these government-sanctioned programs, the children have to be from a family whose income is no more than 30% above the poverty line. That means that a family of four can make no more than $32,000 a year to qualify. Any adult living in America today understands that this is a very difficult   in fact, damn near impossible   amount of money to live on. So, this leads to many children around the country going through the lunch line at school with the inability to pay. However, the tactics used to solve this issue are downright appalling, and they are being deployed all over the nation.A practice referred to as  lunch shaming  is being used to humiliate poor children around the nation for their inability to pay for their lunches. Some kids are stamped in the lunch line with stamps that say things like,  I need lunch money.  Others are forced to clean tables in the cafeteria in front of other students. Still others even have their hot lunches thrown out for their inability to pay.All this serves to do is humiliate already struggling children for things that are far beyond their control. Further, in the cases where the lunches are thrown out, the kids are forced to go hungry. Even worse, some of these kids only get fed at school, so that means that they are literally starving when their one source of food is denied to them.This kind of thing has lifelong effects. Luckily, New Mexico has become the first state to try to put a stop to the practice of lunch shaming. They have introduced legislation that would outlaw the practice, and would make it illegal to engage in any conversations regarding a student s ability to pay for lunch at school with anyone but the student s parents or guardians.The entire nation needs to follow in New Mexico s footsteps. The fact that this sort of thing is happening in the United States of America at all is disgraceful. We should all be ashamed.Watch the video report on this practice below, via AJ+ on Twitter:Children are being shamed for not having lunch money across the U.S. pic.twitter.com/4uSyIJYIGI  AJ+ (@ajplus) April 17, 2017Featured image via video screen capture\n",
      "\n",
      "======= DOCUMENT 335, SIMILARITY 0.17189848603173816\n",
      " House Republicans Seek Destruction Of School Lunch Program Because They Hate Kids. The National School Lunch program that provides healthy free or reduced meals for children in need has joined Social Security, Medicaid, and Medicare as yet another program Republicans want to gut in 2017.Not only do Republicans want to take Social Security away from the American people and take away healthcare for adults and children alike, they apparently also want to let children starve at school, too.For years, both parties supported the school lunch program, but Republicans have becomes so greedy and heartless that they are breaking that spirit of cooperation in order to ruthlessly take food out of the mouths of the children who need it most.The program currently costs $12.7 billion, which is a drop in the bucket considering Donald Trump just called for expanding America s nuclear weapons stockpile, which will cost way more than a school lunch.Clearly, Trump nor the Republicans have ever heard President Dwight Eisenhower s Chance for Peace speech calling excess military spending a theft from the American people.Every gun that is made, every warship launched, every rocket fired signifies, in the final sense, a theft from those who hunger and are not fed, those who are cold and are not clothed. This world in arms is not spending money alone. It is spending the sweat of its laborers, the genius of its scientists, the hopes of its children. The cost of one modern heavy bomber is this: a modern brick school in more than 30 cities. It is two electric power plants, each serving a town of 60,000 population. It is two fine, fully equipped hospitals. It is some fifty miles of concrete pavement. We pay for a single fighter with a half-million bushels of wheat. We pay for a single destroyer with new homes that could have housed more than 8,000 people. . . . This is not a way of life at all, in any true sense. Under the cloud of threatening war, it is humanity hanging from a cross of iron.Indeed, while Republicans are only too happy to increase military spending way beyond our needs, they are more than willing to sacrifice the care of the American people to do it.Low income families rely on the school lunch program to make sure their kids have something good to eat during the day. Eating well helps children learn better and develop healthy eating habits.But Republican don t care.Republicans are targeting the school lunch program because they claim the kids aren t eating the food because it s too healthy. They also claim that the program  risks becoming insolvent,  which is bullshit because Congress funds the program.Also, while there are always complaints when change occurs, experts agree that schools are adapting and and number of complaints have dropped.According to Huffington Post,Margo Wootan, director of nutrition policy at the advocacy group Center for Science in the Public Interest, said the GOP attack on the program was  out of touch with the progress that s been made  improving school lunches.Wootan acknowledged there were well-founded complaints about the program s stricter standards, but the gripes have declined as schools have adapted. She described Freedom Caucus opposition as  purely political anti-government sentiment  that upends the program s historical support from both parties.Indeed, it appears Republicans only want to gut the program because Michelle Obama made it her focus over the last eight years to improve the nutritional value of school lunches.In other words, Republicans are being petty because they hate President Obama and the First Lady.In fact, food waste in America s schools has always been a problem but a study in 2014 published by the American Journal of Preventative Medicine found that the new meal standards ushered in by Michelle Obama did make food waste worse.So Republicans are attacking the program for no real reason and are apparently willing to hurt the well-being and health of children if it means hurting Michelle Obama.These conservatives are truly sick monsters.Featured Image: ChildrensAdvocate.org\n",
      "\n",
      "======= DOCUMENT 748, SIMILARITY 0.1423679768335223\n",
      "https://100percentfedup.com/video-hillary-asked-about-trump-i-just-want-to-eat-some-pie/. https://100percentfedup.com/video-hillary-asked-about-trump-i-just-want-to-eat-some-pie/\n",
      "\n",
      "======= DOCUMENT 3629, SIMILARITY 0.13031736519156667\n",
      "BLACK LIVES MATTER RESPONDS TO Oakland Police Department’s BBQ Invite: “I eat pigs, I don’t eat with them” [VIDEO]. Proving that they really don t want anything to do with improving relations with local law enforcement. This hateful and divisive movement is about reparations and getting special privileges. The Oakland Police Department (OPD) extended an invitation to followers of the Black Lives Matter movement to participate in a barbecue to start a constructive dialogue between the two groups. However, the police were met with flat-out rejection by a spokesperson who referred to law enforcement as  pigs.   A BBQ is definitely not going to stop this blockade,  Karissa Lewis, a self-described  radical black farmer from East Oakland,  told local Fox affiliate KTVU.  And as a radical-black farmer from East Oakland, I eat pigs, I don t eat with them,  she said.According to KTVU, Lewis used the  mic-check call and response technique,  which was popularized at many of the Occupy protests, in order to rally support for her response from fellow protesters, who also rejected the offer. KTVU notes that  many of the activists, at least at this one protest, seemed to be in agreement with her about the offer.  Via: Breitbart News\n",
      "\n",
      "======= DOCUMENT 3223, SIMILARITY 0.10334052933529314\n",
      "COINCIDENCE? CHOBANI SCORES MAJOR CONTRACT WITH MOOCH’S GOVERNMENT CONTROLLED SCHOOL LUNCH PROGRAM After Airing Naked Lesbian TV Ad To 3% Of Population [VIDEO]. Are there any coincidences in the quid pro quo world of Obama s Chicago style politics?  Here s the link story we posted about Chobani and their naked lesbian ad. The video of their ad can be seen below:New York yogurt manufacturer Chobani just landed a massive U.S. Department of Agriculture contract for school lunches after years of lobbying lawmakers and President Obama on its products.The upstate-New York Greek yogurt maker will be distributing its products to schools nationwide next year as a USDA-approved meat substitute for school lunches, capping off a pilot program in a dozen states made possible by extensive lobbying efforts.Chobani Greek Yogurt first gained approval by the USDA for school lunches in 2013 as part of a pilot program after U.S. Sen. Charles Schumer and other New York lawmakers pressured USDA officials to include it in a pilot program for four states. The USDA s typically years-long approval process for new products was miraculously slashed to only about 8 months for Chobani.That pilot program was expanded last year to a dozen states after reportedly positive feedback from students, Syracuse.com reports. After at least three calls from the persistent senator, (U.S. Secretary of Agriculture Tom) Vilsack helped arranged a Sept. 20, 2012 meeting in Schumer s Capitol Hill office with Kevin Concannon, the key official for food, nutrition and consumer services,  the New York Daily News reports.Chobani owner Hamdi Ulukaya was also named by President Obama as a  Presidential Ambassador for Global Entrepreneurship,  which included a  closed-press  meeting with the president at the White House, according to the Daily Sabah.The special treatment was undoubtedly the result of Ulukaya s savvy political sense.According to a Green Monsters! blog about the original pilot program:  Chobani has made a significant financial investment to be at the forefront of this new program and potentially come out as the victor. The New York-based company has already paid $80,000 to Cornerstone Government Affairs to lobby Congress on its behalf. Among its lobbyists are former agricultural department employees.The lobbying firm was also hired following New York Senator Charles Schumer s petition to the USDA asking that Greek yogurt be added school lunch program.The decision on Greek yogurt came rather quickly in just eight months although the agriculture department typically takes years to assess a new product.  The tofu industry waited a decade before an ok,  reports NY Daily News.Senator Schumer also worked with Senator Kirsten Gillibrand of New York to push the Greek yogurt pilot program through. Both senators see it as a win-win for the children and the diary industry.The financial benefit has the potential to be quite considerable for New York in particular. Five years ago, the New York dairy industry was producing barely any revenue. Now it generates almost 40 percent of the $6.5 billion in U.S. yogurt sales annually. Businessweek magazine has even called upstate New York  the Silicon Valley of yogurt. So, after a couple of years of lobbying and a pilot test program, Chobani   the top selling Greek yogurt brand in the U.S.   landed a contract for schools in all 50 states in April. The initial contract is worth $148,019 for the first two months of the 2015-16 school year, Syracuse.com reports.The government will then seek quarterly bids for the remainder of the school year.Chobani s fast-track to school cafeterias across the U.S.   with a contract awarded faster than other companies have even gained approval for their products   raises the same question Green Mosters! blogger Kristina Pepelko first raised in 2013: is the National School Lunch Program and the tightened restrictions on school food truly designed to produce healthier students, or are special interest lobbyists driving menu recommendations from Washington, D.C.?Chobani s senior director of nutrition and regulatory affairs, Robert Post, obviously wants the public to believe it s the former. This is an important step that Chobani is taking in its continued mission to bring nutritious, delicious and natural food to all people of all ages,  he said in a statement. Allowing children to have healthy and delicious options for their lunch tray ingredients is one of the most important things Chobani can do as a company, and we decided to offer out products at significantly reduced prices as we want to extend our mission beyond our cups and into the communities we live in,  Post said.Chobani officials have not disclosed the  significantly reduced prices  for their products, or the potential value of the new government contract, Syracuse.com reports.Via: EAG News\n",
      "\n",
      "======= DOCUMENT 1333, SIMILARITY 0.0821129127487306\n",
      "(VIDEO) LIBS EAT THEIR OWN: “HILLARY’S BEEN LIVING IN A BUBBLE FOR 33 YEARS”. Too funny! Chuck Todd states the obvious but it s huge that he s even saying it out loud.ANDREA MITCHELL AND LIB PUNDITS: HILLARY HASN T MINGLED WITH AVERAGE PEOPLE \n",
      "\n",
      "======= DOCUMENT 2303, SIMILARITY 0.07428745110466438\n",
      "BRAVO! LEGENDARY CIVIL RIGHTS LEADER Takes Heat But Supports Trump: “Politicians are a dime a dozen, but leaders are priceless.” [Video]. Decades ago he stood against oppression by sitting at a North Carolina lunch counter, today he stands beside Donald Trump for president.Clarence Henderson, who participated at the sit-in protest in 1960, is backing the GOP candidate despite receiving backlash from some in the black community, the Associated Press reported. Donald Trump is certainly not a politician, and politicians are a dime a dozen, but leaders are priceless,  he said.Henderson has been brutalized on social media for his standing position.But Henderson is undeterred. He has proved to be a leader in the business field. Has he done everything right? No, certainly not. But I think that he has more at stake than Hillary does,  Henderson told the AP.The civil rights leader originally supported Ted Cruz but joined the Trump Train when Trump won the Republican nomination. I stand before you as one that knows what America s all about   the good, the bad and the ugly. I would not live in any other country except America that put Jim Crow on trial and found him guilty of trying to separate the races. So I stand before you to say that we are unified,  he said at a Trump rally in September.And he plans to vote for Trump for the same reason he sat at that lunch counter in the 60s. I would rather be in the minority on the side of justice than in the majority on the side of injustice, because I have lived a life where I saw there was injustice,  he said. \n",
      "\n",
      "======= DOCUMENT 379, SIMILARITY 0.07063402774995375\n",
      "ANTI-TRUMP Communications Specialist For UN Arrested In NYC For Robbing Banks During Lunch. A United Nations employee was busted for robbing four Manhattan banks   all during his lunch hour, authorities said.Only 3 weeks ago, the anti-Trump UN worker warned on Facebook that some  dubious characters are betraying us  and that he would reveal names later. (see post below).Abdullahi Shuaibu, 53, was picked up by cops Monday and hit with two counts of robbery and two counts of attempted robbery for the crimes committed during his two-month spree.Abdullah Shuaibu s LinkedIn account states that he lives in New York and is currently employed by the UN as a  Communications Specialist .A photo from Shuaibu s Facebook page shows him standing with UN General Assembly President Morgens Lykketoft. Abdullah Shuaibu s Facebook page includes several anti-Trump posts like this one where he hilariously refers to  The New Yorker  as  one of America s most prestigious magazines LOL!So a guy who works for the UN and holds up banks on his lunch hours is concerned about a private conversation Trump had with another guy on a bus? Shuaibu claims  racism  is the  Trump card  in this post: All four banks are within walking distance of UN headquarters on First Ave. near E. 42nd St., where the Nigeria native works as a journalist for an African news agency, police said.Authorities were led to the thief after a retired police officer who works at the facility recognized Shuaibu from a surveillance image previously released by the NYPD.In the first incident, Shuaibu walked into a Santander Bank on Madison Ave. near E. 43rd St. on Feb. 27 and told the teller he had a gun. The bank employee complied and handed Shuaibu an unknown sum of money.He hit two more banks during the month of March, first striking out at a Bank of America on Third Ave. near E. 47th St. on the 13th. He was successful in robbing a Santander Bank on Third Ave. and E. 63rd St. on the 27th.Police arrested him later in the day when he returned to the UN. Read more: NYPOn March 28th, warned his Facebook friends that some  dubious characters are betraying us! Names will be mentioned later Hmmm very interesting timing!\n",
      "\n",
      "======= DOCUMENT 4758, SIMILARITY 0.0588474849513952\n",
      "McConnell says planned vote on Obamacare repeal can be amended. WASHINGTON (Reuters) - U.S. Senate Republican leader Mitch McConnell said on Wednesday the Senate will vote on a motion next week to move ahead with a bill to repeal and or replace Obamacare that could easily be amended. “I think we have two options here, I think we all agree it’s better to both repeal and replace, but we could have a vote on either, and if we end up voting on repeal only, it will be fully amendable on the Senate floor and if it were to pass without any amendment at all there’s a two-year delay before it kicks in... so the takeaway from what I’m telling you is no harm is done from getting on the bill,” McConnell told reporters at the White House following a lunch with President Donald Trump and almost all of the Republican senators.  \n",
      "\n",
      "======= DOCUMENT 4350, SIMILARITY 0.05794194175153592\n",
      "$110K STOLEN FROM ‘At Risk Kids’ Fund By DC City Council To Fund Obama’s Inaugural Ball. Aren t the kids already suffering enough by being forced to eat Mooch s slop for lunch? Isn t it always  all about the kids  for the unions and Dem s? When the Washington D.C. City Council pleaded for $110,000 in funding for a program for at risk kids they cried that it was  for the children.  But not long after the money was given to the city, officials decided to use it to fund a big party for Obama s 2009 inaugural. Now one official has been sentenced for this theft.Former DC official Neil S. Rodgers was sentenced this week for the theft and six others have pled guilty in separate cases for the misappropriation of the funding.Neil S. Rodgers, a former D.C. government official, was sentenced Tuesday for his role in the misappropriation of $110,000 earmarked for D.C. s Children at Risk and Drug Prevention Fund to cover a deficit for the 51st State Inaugural Ball for President Obama s inauguration in 2009. Rodgers, found guilty of fraud in March, was sentenced to 36 days (served on weekends) plus two years of probation. Rodgers must also repay the entire $110,000 as restitution for his crime. In 2008, as arrangements were underway for inauguration celebrations, the Washington City Paper reported on former council member Harry Thomas Jr. s early plans for the 51st State Inaugural Ball, noting that  there would have to be a plan to raise funds for the event, and security and cleanup concerns would also have to dealt with. Thomas says all that will be taken care of; he says he plans to seek private donations to cover the difference between the event s cost and the revenues raised by the $51 ticket cost.  Donations, however, came up short. Justice Department officials described Rodgers s role in the misappropriation scheme in a Tuesday press release.Via: Right Wing News\n",
      "\n"
     ]
    }
   ],
   "source": [
    "# The TF-IDF search engine is just looking for exact words\n",
    "tfidf_search(query)"
   ]
  },
  {
   "cell_type": "markdown",
   "id": "bbea6146-ac77-4eb6-b0c6-c8cfc78549a0",
   "metadata": {},
   "source": [
    "#### The results?"
   ]
  },
  {
   "cell_type": "markdown",
   "id": "03ca440d-2aa1-4666-881b-cbb0949b10aa",
   "metadata": {},
   "source": [
    "Not so great, mostly we are just seeing stories with words like \"lunch\" and \"president.\""
   ]
  },
  {
   "cell_type": "markdown",
   "id": "49884999-f322-45be-8ad6-1e913e5fbc08",
   "metadata": {},
   "source": [
    "### The semantic search engine with pretrained embeddings"
   ]
  },
  {
   "cell_type": "markdown",
   "id": "dae1cbe8-ee18-419e-b3ef-083bd6845d1c",
   "metadata": {},
   "source": [
    "Here we swap in `semantic_search` -- the engine powered by pretrained embeddings trained on a massive corpus from Google news. It looks at *meaning*, not just individual word overlap."
   ]
  },
  {
   "cell_type": "code",
   "execution_count": 104,
   "id": "45e18e46-9cff-4bb9-a827-4476506a3ea4",
   "metadata": {},
   "outputs": [
    {
     "name": "stdout",
     "output_type": "stream",
     "text": [
      "======= DOCUMENT 689, SIMILARITY 0.510378106356117\n",
      "'Can I get it to go?' Canada's Trudeau charms  Manila while ordering fried chicken. MANILA (Reuters) - Canadian Prime Minister Justin Trudeau hopped from one table to the next, chatted with people and posed for selfies on Sunday at a fastfood chain store in Manila, charming residents of the Philippines capital for the second time in two years. Trudeau, in Manila for a summit of regional leaders, dropped in at an outlet of fastfood giant Jollibee Foods Corp  after a visit to a nearby women s clinic that advocates family planning, a touchy subject in the Catholic-majority Philippines. He greeted nearly everyone in the store, shaking hands and exchanging hugs with fans after ordering fried chicken and a strawberry float.  Can I get it to go? I ll eat it in the car,  Trudeau said, before going behind the counter for a photograph with Jollibee staff. Earlier, when he landed at Clark airport, a smiling Trudeau waded into a crowd of children gathered to greet dignitaries arriving for the summit, exchanging high fives and waving to others.  During his last visit to Manila, Trudeau won a Twitter poll with the hashtag #APEChottie that asked people to vote for the most attractive leader at the Asia Pacific Economic Cooperation summit in 2015.  He s so handsome! And he s very nice,  said 29-year-old Rina Aparicio, among the customers at the fastfood outlet.  I asked for a selfie and he said yes right away.  Outside the store, hundreds of people screamed and shouted  as Trudeau got into his car, waving what appeared to be hastily written placards saying  Welcome to the Philippines!  Trudeau visited the first Jollibee store in Winnipeg, Canada in January, a country with hundreds of thousands of Filipino immigrants. Jollibee, a $5 billion company that has been dubbed the McDonald s of the Philippines, is looking to go global with primary targets including China and the United States.  The company, which also serves burgers and sweet spaghetti, is opening another outlet in Winnipeg this month and plans are to increase that to 30 in five to 10 years, said Jose Minana, a Jollibee executive. Minana said the company did not seek out Trudeau for the visit, and said it was requested by Canadian officials.  We re very humbled by him taking time from his obviously busy schedule to give us a slice of his time,  said Minana.  I d like to also think that he enjoys the food.  \n",
      "\n",
      "======= DOCUMENT 1997, SIMILARITY 0.49855705362830116\n",
      "PRESIDENT TRUMP Goes Shopping…He’s a Hit!. The photos from President Trump s visit to the food storehouse for LDS families in need are great. President Donald Trump created quite a stir when he pushed a shopping cart down a food aisle at the LDS Church Bishops  Central Storehouse in Salt Lake City.The state-of-the-art facility from The Church of Jesus Christ of Latter-day Saints was built to better enable the church to help families in need.THUMBS UP! This is very exciting for me,  Trump added.  I know so many people that are in your church, the Latter-day Saints. The job you ve done is beyond anything you could think of   taking care of people the way you take care of people and the respect that you have all over the world. CHECKING HIS LISTTrump said Monday that he s pressing Sen. Orrin Hatch, R-Utah, who accompanied the president on his visit, to run for an eighth term, but when asked if he was trying to block Mitt Romney from running for the seat, the president was complimentary of the former GOP presidential nominee. He s a good man. Mitt s a good man,  he said, according to the Deseret News. But, without a doubt, the best part of the visit was photographs of Trump wheeling the full cart of food\n",
      "\n",
      "======= DOCUMENT 4270, SIMILARITY 0.49828447015028154\n",
      " Saudi Arabia Will Do Something Truly Disgusting In An Attempt To Accommodate Trump (DETAILS). This weekend, Donald Trump will visit Saudi Arabia   and the country is going out of its way to make him comfortable.Everyone knows that Donald Trump basically has the diet of an unhealthy toddler   he survives entirely on fast food and junk. It s previously been reported that Trump prefers burgers and meatloaf, Caesar salads and spaghetti, See s Candies and Diet Coke. And he shuns tea, coffee, and alcohol. This was a concern for the POTUS  first trip overseas, but Saudi Arabia has come to the rescue. During Trump s visit, he will be served steak   which Trump likes burnt to a crisp   with ketchup (his favorite) after all.The Associated Press reported on the preparations that must be made for Trump s visit, stating that there were extra steps that needed to be taken just for Trump: People with knowledge of the planning for Trump s trip say the caterers are planning to offer the president steak and ketchup alongside the lamb and hefty portions of rice on the menu. All the meat will have been butchered in a Shariah-compliant halal manner as per Islamic custom. And of course, Trump will probably still find a way to be difficult and ungrateful. The Associated Press wrote: Trump s hosts on his upcoming trip are well-aware of his aversion to travel and are trying to make accommodations to keep him happy. Even if things are going perfectly, we re sure Trump will find a way to complain. He has made outlandish requests before, and just recently canceled a trip to Israel because he wasn t allowed to land his helicopter on top of the mountain fortress of Masada. This kind of diva behavior is humiliating for the country, and we can bank on Trump have some sort of issue while he s overseas.Featured image via Win McNamee / Getty Images\n",
      "\n",
      "======= DOCUMENT 704, SIMILARITY 0.49118323790093754\n",
      " ‘Lunch Shaming’: Schools Punish Poor Kids Who Can’t Pay For Lunch With Appalling Humiliation (VIDEO). As we all know, there are many children in America who cannot afford school lunch. Some of these kids are  lucky  (and I use the term loosely) to qualify for free or reduced price school lunches. Others are not. To qualify for these government-sanctioned programs, the children have to be from a family whose income is no more than 30% above the poverty line. That means that a family of four can make no more than $32,000 a year to qualify. Any adult living in America today understands that this is a very difficult   in fact, damn near impossible   amount of money to live on. So, this leads to many children around the country going through the lunch line at school with the inability to pay. However, the tactics used to solve this issue are downright appalling, and they are being deployed all over the nation.A practice referred to as  lunch shaming  is being used to humiliate poor children around the nation for their inability to pay for their lunches. Some kids are stamped in the lunch line with stamps that say things like,  I need lunch money.  Others are forced to clean tables in the cafeteria in front of other students. Still others even have their hot lunches thrown out for their inability to pay.All this serves to do is humiliate already struggling children for things that are far beyond their control. Further, in the cases where the lunches are thrown out, the kids are forced to go hungry. Even worse, some of these kids only get fed at school, so that means that they are literally starving when their one source of food is denied to them.This kind of thing has lifelong effects. Luckily, New Mexico has become the first state to try to put a stop to the practice of lunch shaming. They have introduced legislation that would outlaw the practice, and would make it illegal to engage in any conversations regarding a student s ability to pay for lunch at school with anyone but the student s parents or guardians.The entire nation needs to follow in New Mexico s footsteps. The fact that this sort of thing is happening in the United States of America at all is disgraceful. We should all be ashamed.Watch the video report on this practice below, via AJ+ on Twitter:Children are being shamed for not having lunch money across the U.S. pic.twitter.com/4uSyIJYIGI  AJ+ (@ajplus) April 17, 2017Featured image via video screen capture\n",
      "\n",
      "======= DOCUMENT 3404, SIMILARITY 0.48733326860830367\n",
      "Rush for free food packets kills 10 at Bangladesh prayer meeting. DHAKA (Reuters) - Hundreds of people rushed to a Bangladeshi community centre prayer meeting to get free food packets on Monday, killing at least 10 people and injuring more than 50 in the crush, police said. The family of a former mayor in the southern port city of Chittagong had organised a prayer meet and offered the food packets in his memory.   We repeatedly announced on the loudspeaker that there are  adequate stock of foods at the centre, but when the gate was opened, hundreds of people tried to enter at the same time,  Devashis Paul, a local leader of the ruling Awami League party, said.   \n",
      "\n",
      "======= DOCUMENT 2911, SIMILARITY 0.4788595275619238\n",
      "OBAMA’S “VERY PICKY” About This One Thing In The White House…Trump Has A Different Outlook. According to the New York Post:President Obama is very particular about his   shower head. One thing that we were very aware of is the new president wanted a special shower head,  Stephen Rochon, the White House chief usher told CNN on Sunday, recalling when the Obamas moved into 1600 Pennsylvania Ave. And so we had to scramble to make sure we had the perfect rain shower head for President Obama. President-elect Trump has said he won t be giving the famous address a makeover.Trump will move into the White House Jan. 20, Inauguration Day.We re so lucky to have Trump in the Oval Office to clean up the mess from the past 8 years! He s going to slash and burn in his first 100 days in office. Honestly, who else is counting the minutes until Trump is inaugurated? We re ready! VIA: NYP\n",
      "\n",
      "======= DOCUMENT 626, SIMILARITY 0.476091575211516\n",
      "Trump aide Greenblatt returning to Israel for peace talks: official. WASHINGTON (Reuters) - President Donald Trump’s Middle East peace negotiator, Jason Greenblatt, is returning to Israel to “continue the peace track” after the president met with Israeli Prime Minister Benjamin Netanyahu and Palestinian President Mahmoud Abbas last week in New York, a White House official said on Sunday. “While President Trump had productive meetings with Prime Minister Netanyahu and President Abbas at the United Nations, we always said that the UN would not focus on peace conversations and that those conversations would be happening on a separate track,” the official said in a statement. “(Greenblatt) will have follow-up meetings in advance of a private trip in the region with his family for Sukkot. The meetings are part of the Administration’s quiet, steady discussions toward peace,” he said. Sukkot is a Jewish holiday. \n",
      "\n",
      "======= DOCUMENT 3789, SIMILARITY 0.47577925183365033\n",
      "Toned-down White House press dinner carries on without Trump. WASHINGTON (Reuters) - The White House press corps gathered on Saturday for its annual black-tie dinner, a toned-down affair this year after Donald Trump snubbed the event, becoming the first incumbent U.S. president to bow out in 36 years. Without Trump, who scheduled a rally instead to mark his 100th day in office, the usually celebrity-filled soiree hosted by the White House Correspondents’ Association took a more sober turn, even as it pulled in top journalists and Washington insiders. Most of Trump’s administration also skipped the event in solidarity with the president, who has repeatedly accused the press of mistreatment. The president used his campaign-style gathering to again lambaste the media.  “I could not possibly be more thrilled than to be more than 100 miles away,” he told a crowd in Harrisburg, Pennsylvania, calling out The New York Times, CNN and MSNBC by name. In Washington, WHCA President Jeff Mason defended press freedom even as he acknowledged this year’s dinner had a different feel, saying attempts to undermine the media was dangerous for democracy. “We are not fake news, we are not failing news organizations and we are not the enemy of the American people,” said Mason, a Reuters correspondent. Instead of the typical roasts - presidents of both parties have delivered their own zingers for years - the event returned to its traditional roots of recognizing reporters’ work and handing out student scholarships as famed journalists Bob Woodward and Carl Bernstein presented awards. “That’s not Donald Trump’s style,” NBC News’ Andrea Mitchell told MSNBC, referring to the self-deprecating jokes presidents in the past have made despite tensions with the press. Instead, the humor fell to headline comedian Hasan Minhaj. “Welcome to the series finale of the White House correspondents’ dinner,” Minhaj, who plays a correspondent on Comedy Central’s “The Daily Show” program, told the crowd. He also joked about Trump, despite organizers’ wishes, saying he did so to honor U.S. constitutional protection of free speech: “Only in America can a first-generation, Indian-American Muslim kid get on this stage and make fun of the president.” In a video message, actor Alec Baldwin, who has raised Trump’s ire playing him on NBC’s “Saturday Night Live” program also encouraged attendees. Few other celebrities graced the red carpet, although some well-known Washingtonians, such as former Secretary of State Madeleine Albright and Republican Representative Darrell Issa of California, appeared.  Trump attended in 2011, when then-President Barack Obama made jokes at the expense of the New York real estate developer and reality television show host. In an interview with Reuters this week, Trump said he decided against attending as president because he felt he had been treated unfairly by the media, adding: “I would come next year, absolutely.” In Pennsylvania, Trump told supporters the media dinner would be boring but was noncommittal on whether he would go in 2018 or hold another rally. Late night television show host Samantha Bee also hosted a competing event - “Not the White House Correspondents’ Dinner” - that she said would honor journalists, rather than skewer Trump. \n",
      "\n",
      "======= DOCUMENT 3083, SIMILARITY 0.4752816490277124\n",
      "REMEMBER WHEN WE HAD A COMMANDER IN CHIEF WHO REALLY LOVED AND RESPECTED OUR MILITARY?. Our military men and women never had to wonder if President George W. Bush cared about them Former Press Secretary for George W. Bush, Dana Perino, has a new book out about her tenure during the Bush Administration entitled,  And the Good News Is : Lessons and Advice from the Bright Side. One of the stories from the book is certainly raising some eyebrows about the former president. She describes a visit to Walter Reed military hospital by the then president during 2005. One of the men the president was visiting was a Marine who was in intensive care. What s his prognosis?  the president asked. Well, we don t know sir, because he s not opened his eyes since he arrived, so we haven t been able to communicate with him. But no matter what, Mr. President, he has a long road ahead of him,  said the CNO.The president and his aides then proceeded to carry out the purple heart ceremony for the young, unconscious marine.The Marine had just opened his eyes. I could see him from where I stood.The CNO held the medical team back and said,  Hold on, guys. I think he wants the president. The president jumped up and rushed over to the side of the bed. He cupped the Marine s face in his hands. They locked eyes, and after a couple of moments the president, without breaking eye contact, said to the military aide,  Read it again. So we stood silently as the military aide presented the Marine with the award for a second time. The president had tears dripping from his eyes onto the Marine s face. As the presentation ended, the president rested his forehead on the Marine s for a moment.Now everyone was crying, and for so many reasons: the sacrifice; the pain and suffering; the love of country; the belief in the mission; and the witnessing of a relationship between a soldier and his Commander in Chief that the rest of us could never fully grasp. (In writing this book, I contacted several military aides who helped me track down the name of the Marine. I hoped for news that he had survived. He did not. He died during surgery six days after the president s visit. He is buried at Arlington Cemetery and is survived by his wife and their three children.)Via: Controversial Times \n",
      "\n",
      "======= DOCUMENT 1528, SIMILARITY 0.4748388060715093\n",
      "AWESOME! SEAN SPICER Gives Trump’s Salary Away At Press Briefing [Video]. Zinke and Brandyburg accompanied Spicer to the podium on Monday   where the White House Press Secretary announced that President Donald Trump was donating the salary from his entire first quarter as president to the National Parks Service. It is my pleasure, on behalf of the President of the United States, to present a check for $78,333, to the Secretary of the Interior Ron Zinke, and superintendent of the Harpers Ferry Park Sites, superintendent Brandyburg,  Spicer said.https://www.youtube.com/watch?v=wRaLJumoAGoVia: Mediate\n",
      "\n"
     ]
    }
   ],
   "source": [
    "# Try the semantic_search function which is built with the pretrained embeddings\n",
    "semantic_search(query)"
   ]
  },
  {
   "cell_type": "markdown",
   "id": "9b6fb962-ac3d-4f57-8cce-4d292cdc8c43",
   "metadata": {},
   "source": [
    "#### The results?"
   ]
  },
  {
   "cell_type": "markdown",
   "id": "b0a37b04-db98-42cb-911b-6f97f6c4865f",
   "metadata": {},
   "source": [
    "This one works surprisingly well! The engine retrieved results where exact words like \"lunch\" and \"president\" didn't even show up, but the meaning (hello, cosine similarity) was still there. That’s the magic of pretrained embeddings: they understand semantic similarity between terms and return results based on meaning, not just matching letters.\n",
    "\n",
    "This is how cutting-edge search engines work."
   ]
  },
  {
   "cell_type": "markdown",
   "id": "7e709db7-788f-4045-842b-70db94002ed3",
   "metadata": {},
   "source": [
    "### The semantic search engine with custom-trained embeddings"
   ]
  },
  {
   "cell_type": "markdown",
   "id": "b4fe8aae-e339-4a53-bd1e-a62182d3625a",
   "metadata": {},
   "source": [
    "Now we're using `semantic_search2` -- our own homegrown engine trained from scratch."
   ]
  },
  {
   "cell_type": "code",
   "execution_count": 108,
   "id": "5d1bf55a-74db-409b-a575-e440095e63a5",
   "metadata": {},
   "outputs": [
    {
     "name": "stdout",
     "output_type": "stream",
     "text": [
      "======= DOCUMENT 190, SIMILARITY 0.8237499032018556\n",
      "LIVE FEED: PRESIDENT TRUMP Speaks At CPAC – 10:00 a.m. EST.  \n",
      "\n",
      "======= DOCUMENT 3083, SIMILARITY 0.7771356849571065\n",
      "REMEMBER WHEN WE HAD A COMMANDER IN CHIEF WHO REALLY LOVED AND RESPECTED OUR MILITARY?. Our military men and women never had to wonder if President George W. Bush cared about them Former Press Secretary for George W. Bush, Dana Perino, has a new book out about her tenure during the Bush Administration entitled,  And the Good News Is : Lessons and Advice from the Bright Side. One of the stories from the book is certainly raising some eyebrows about the former president. She describes a visit to Walter Reed military hospital by the then president during 2005. One of the men the president was visiting was a Marine who was in intensive care. What s his prognosis?  the president asked. Well, we don t know sir, because he s not opened his eyes since he arrived, so we haven t been able to communicate with him. But no matter what, Mr. President, he has a long road ahead of him,  said the CNO.The president and his aides then proceeded to carry out the purple heart ceremony for the young, unconscious marine.The Marine had just opened his eyes. I could see him from where I stood.The CNO held the medical team back and said,  Hold on, guys. I think he wants the president. The president jumped up and rushed over to the side of the bed. He cupped the Marine s face in his hands. They locked eyes, and after a couple of moments the president, without breaking eye contact, said to the military aide,  Read it again. So we stood silently as the military aide presented the Marine with the award for a second time. The president had tears dripping from his eyes onto the Marine s face. As the presentation ended, the president rested his forehead on the Marine s for a moment.Now everyone was crying, and for so many reasons: the sacrifice; the pain and suffering; the love of country; the belief in the mission; and the witnessing of a relationship between a soldier and his Commander in Chief that the rest of us could never fully grasp. (In writing this book, I contacted several military aides who helped me track down the name of the Marine. I hoped for news that he had survived. He did not. He died during surgery six days after the president s visit. He is buried at Arlington Cemetery and is survived by his wife and their three children.)Via: Controversial Times \n",
      "\n",
      "======= DOCUMENT 3278, SIMILARITY 0.7646209100084025\n",
      "LIVE FEED-LIVE CHAT: PRESIDENT TRUMP Addresses A Joint Session Of Congress – 9:10 pm ET [Video].  \n",
      "\n",
      "======= DOCUMENT 2826, SIMILARITY 0.7423130079366402\n",
      "LOL! CHUCKIE SCHUMER WARNS TRUMP Is “In Trouble” For Accusing Obama Of Wiretapping Trump Towers…What Schumer Says Next Is HILARIOUS!. The top Democrat in the Senate, Chuck Schumer (NY), claimed Sunday that President Trump is  in trouble,  a stern warning that came a day after the commander-in-tweet claimed President Obama wiretapped him.Citing President Obama s denial that he ordered a wiretap of Trump, Schumer said,  Either way   the president s in trouble. If he falsely spread this kind of misinformation, that is so wrong. It s beneath the dignity of the presidency. It is something that really hurts people s view of government,  he said.Yeah, because making the embarrassing, race-baiter-for-hire Al Sharpton a regular visitor at the White House is somehow not beneath the dignity of the presidency? You mean like taking  selfies  during the funeral of one of the greatest civil rights leaders in the world? Or traveling to Cuba to hang out at a baseball game with Raul Castro, who along with his brother are some of the most brutal dictators in the world?Were Watergate reporters Bob Woodward and Carl Bernstein shamed for making  government look bad  when they uncovered the wire-tapping done by President Nixon? He deserved it? Really Chuck? Because he was running against Hillary Clinton or because he was simply on the wrong team? If he were a Democrat, would have have deserved it? On the other hand, if it s true, it s even worse for the president. Because that means that a federal judge, independently elected, has found probable cause that the president, or people on his staff, have probable cause to have broken the law or to have interacted with a foreign agent,  New York s senior senator claimed.  NYP \n",
      "\n",
      "======= DOCUMENT 3416, SIMILARITY 0.7422763665870529\n",
      "FIRST FAMILY FATHER’S DAY: “Rustic” Camp David with the In-Laws [Video]. Did President Trump visit Camp David this Father s Day weekend to give his Secret Service detail the weekend off? Former President George Bush was known to do the same at Christmas. We know President Trump isn t a huge fan of Camp David calling it  rustic  earlier this year. The First Family waved  to photographers as they left the White House. President Trump looked dapper in a navy suit while Melania wore a $1,795 belted white shirt dress that was belted at the waist.THIS IS A SHOCKER: VOGUE MAGAZINE gave Melania a thumbs up review on her casual style for the trip to Camp David. They described the Gabriella Hearst dress she wore as a softly tailored silhouette  paired with  comfortable shoes.Barron Trump showed off Arsenal Football Club shorts. Barron was seen earlier kicking a soccer ball around on the White House grounds.The First Family joined Melania Trump s parents, Viktor and Amalija Knavs, for the overnight at Camp David after they accompanied Melania and Barron on their official move to the White House.This is not President Trump s usual getaway spot. He usually goes to his golf club in Bedminster, NJ or Mar a Lago in Palm Beach, Florida for a round of golf and a weekend stay.Camp David has been called  rustic  by the president who favors a more formal setting. His honesty about this government-owned retreat in Maryland s Catoctin Mountains is refreshing and funny. He told the foreign press earlier this year: You know how long you d like it? For about 30 minutes.   Can t you just see the wheels turning for an upgrade to  rustic  Camp David. \n",
      "\n",
      "======= DOCUMENT 2911, SIMILARITY 0.7410142492058087\n",
      "OBAMA’S “VERY PICKY” About This One Thing In The White House…Trump Has A Different Outlook. According to the New York Post:President Obama is very particular about his   shower head. One thing that we were very aware of is the new president wanted a special shower head,  Stephen Rochon, the White House chief usher told CNN on Sunday, recalling when the Obamas moved into 1600 Pennsylvania Ave. And so we had to scramble to make sure we had the perfect rain shower head for President Obama. President-elect Trump has said he won t be giving the famous address a makeover.Trump will move into the White House Jan. 20, Inauguration Day.We re so lucky to have Trump in the Oval Office to clean up the mess from the past 8 years! He s going to slash and burn in his first 100 days in office. Honestly, who else is counting the minutes until Trump is inaugurated? We re ready! VIA: NYP\n",
      "\n",
      "======= DOCUMENT 3637, SIMILARITY 0.7364533883656457\n",
      "33-Yr Old Skier LINDSEY VONN Says She Won’t Represent President Trump At Upcoming Olympics. Has there ever been a US Olympic athlete who, before representing the United States in the Olympic games, discussed whether or not they would be  representing  our President? Aren t the U.S. Olympic athletes made aware fairly early on, that they re representing our nation? I don t remember ever seeing any of our athletes carrying a flag with a picture of the President of the United States, or wearing apparel covered with the President s image or name. So why is Lindsey Vonn making a statement about how she s not going to be representing President Trump? Does anyone really care about Lindsey Vonn s opinion about President Trump? FOX News  Olympic gold medal skier Lindsey Vonn says she ll represent the United States, but not President Trump, when she returns to the Winter Games in February.Vonn, who won a gold medal in the women s downhill competition in 2010 in Vancouver, skipped the 2014 Sochi games because of knee injuries. I hope to represent the people of the United States, not the president,  Vonn said this week amid the buildup to the 2018 games in PyeongChang, South Korea. I take the Olympics very seriously and what they mean and what they represent, what walking under our flag means in the opening ceremonies,  she added. I want to represent our country well, and I don t think there are a lot of people currently in our government that do that. Vonn also told CNN that she would  absolutely not  accept an invitation to the White House.Isn t this really more about a former Olympic athlete with an over-inflated ego and an overblown sense of how important her opinions are to the American people than anything else? \n",
      "\n",
      "======= DOCUMENT 162, SIMILARITY 0.735906054651948\n",
      " WATCH: Florida Gov. Rick Scott Disrespects President Obama, Calls Trump After Fort Lauderdale Mass Shooting. Rather than call the sitting president who could actually help him, Florida Governor Rick Scott dissed President Obama by calling Donald Trump instead.On Friday, a gunman entered the Fort Lauderdale-Hollywood International Airport and killed five people while wounded eight others. The incident unfolded throughout the afternoon and police finally took the shooter into custody.When a tragedy like this occurs, a governor usually makes a phone call to the White House to speak to the president. But Florida Governor Rick Scott disrespected President Obama and contacted Trump to speak with him and Mike Pence about the situation.Scott went out of his way to mention that to reporters and seemed to suggest that President Obama should have reached out to him.The Scott dodged follow-up questions from reporters about his disrespect towards the sitting president by claiming that now isn t the time for politics, even though shunning President Obama while speaking to Donald Trump is clearly political.Here s the video via Twitter.Florida Gov. Rick Scott says he has reached out to Trump and Pence since the shooting, but not POTUS. pic.twitter.com/y8iVykaxV3  ABC News Politics (@ABCPolitics) January 6, 2017So Rick Scott chose to keep Trump and Pence informed but not the one man who can actually do something to assist Florida during this tough time? Seriously?!Republicans have been disrespecting President Obama for eight years and with 14 days left until Inauguration Day, one would think that Republicans would at least be more respectful. But no, they would rather continue hypocritically calling for unity behind Trump and asking everyone to respect Trump while continuing to disrespect the sitting President of the United States. They would rather pretend that Trump is already president. Republicans couldn t even show respect to President Obama in the wake of a mass shooting and used it to as opportunity to insult him.This is the last straw. In no uncertain terms should Democrats step one toe across the aisle to work with Republicans over the next four years and Trump deserves to be disrespected at all times no matter what. Turnabout is fair play. All of Trump s nominees should be blocked and his agenda obstructed 24 hours a day, seven days a week, 365 days a year for ALL four years. If disrespect is what Republicans want, then that s what they should get.And people were NOT happy about Rick Scott talking to Trump instead of President Obama like he should have done.@ABCPolitics PRESIDENT is BARACK OBAMA  the only one with legal authority to do anything at this point.  Deepen Gandhi (@deepen915) January 6, 2017@ABCPolitics Not time to be political so @FLGovScott why the hell would you call Trump and not the current sitting President?  Ycp45 (@PakYong45) January 6, 2017@ABCPolitics @ABC7NY moments like this politics should be put aside. Governor of Florida should have reached out to POTUS before Trump  Chris Winkelman (@mpngirl) January 6, 2017@ABCPolitics such a hypocrite , he says it s not time for politics so why not reach out to POTUS? He is still the president .  Alice Fiona N (@AliceFionaN) January 6, 2017@ABCPolitics @ABC7NY So, #RickScott reached 2 #PEOTUS and not #POTUS. Interesting. Ressources needed can wait 14d I guess. #FortLauderdale  DocGM (@DocGMleMollah) January 6, 2017@ABCPolitics @ABC7NY how disrespectful. The office demands respect. Even if u don t like the person  Zaida (@Saida11660) January 6, 2017@ABCPolitics Unbelievable and distasteful  Maggio 2028   (@Haus_Of_Maggio) January 6, 2017@ABCPolitics @GMA what an ignorant Governor! Does not know to contact the President! As if the President would not take his call. Shameful.  SBR (@sbr255) January 6, 2017This country only has one president at a time and President Obama still has 14 days left. The only thing Rick Scott did is divide America even more today at a time when Fort Lauderdale needed us to come together. But Scott would rather suck up to Trump instead of getting immediate help for his state. Sad.Featured image via Joe Raedle/Getty Images\n",
      "\n",
      "======= DOCUMENT 4949, SIMILARITY 0.7357516185418174\n",
      "UNREAL! OBAMA TAKES SHOT AT TRUMP With Approving Nod From Germany’s Merkel [Video]. Obama took a veiled shot at President Trump that was beyond tacky. He needs to move on but just can t let being president go. He s been trolling Trump throughout the president s trip to Europe. It s the shadow government working its way into the current administration. Listen to this jackwagon take a shot at President Trump with nodding approval from Germany s Merkel:Merkel and Obama have no business giving advice on immigration and walls. Both have betrayed their people with open borders. Shame on them!OBAMA NEEDS TO GO OFF INTO THE SUNSET HIS TIME IS OVER!\n",
      "\n",
      "======= DOCUMENT 4489, SIMILARITY 0.734584842912958\n",
      "PRESIDENT TRUMP AND MELANIA Arrive in Poland to Cheering Crowds [Video]. The President and First Lady touched down in Warsaw, Poland today for a visit before traveling to Hamburg, Germany. They ll be in Hamburg for the G20 Summit where Trump is expected to meet Russian President Vladimir Putin for the first time and discuss the nuclear threat of North Korea with world leaders. As they stepped off of the plane, Melania appeared in a beautiful green coat . She never misses! GO TO THE 10:15 MARK FOR THEIR DEPLANING:THE FIRST LADY WAVES AFTER ARRIVING IN WARSAW, POLAND:Melania Trump waves after arriving in Warsaw, Poland. How can anyone not love our First Lady? pic.twitter.com/6821k3dH2T  Tennessee (@TEN_GOP) July 5, 2017POLISH CROWDS CHEERING AS PRESIDENT TRUMP ARRIVES IN WARSAW: CROWDS LINED THE ENTIRE ROUTE!Polish Crowds Cheering as President Trump Arrives in Warsaw pic.twitter.com/TGCHfb7Blc  Jack Posobiec   (@JackPosobiec) July 5, 2017A FULL MILITARY ESCORT IN POLAND:The First Couple will leave Germany for Paris and Bastille Day ceremonies next Friday. We re looking forward to watching President trump move amongst world leaders. We have to admit that it s also going to be fun to see what the First Lady is wearing each time she makes a public appearance.\n",
      "\n"
     ]
    }
   ],
   "source": [
    "# Try the semantic search engine with embeddings trained on our dataset\n",
    "# It should be great, but...\n",
    "semantic_search2(query)"
   ]
  },
  {
   "cell_type": "markdown",
   "id": "0e60bdbd-3ae6-4fdd-aba3-180c4f815cdc",
   "metadata": {},
   "source": [
    "#### The results?"
   ]
  },
  {
   "cell_type": "markdown",
   "id": "373e6555-f833-4a57-a716-bd821a7ad42e",
   "metadata": {},
   "source": [
    "Not good.\n",
    "\n",
    "**So, why did the semantic search engine with custom-trained embeddings struggle so much?**\n",
    "\n",
    "Embeddings are **data hungry**. Even though I trained the engine on over 5,000 news articles, that wasn't nearly enough data for the model to learn words in context. But the pre-trained model had already been trained on a massive trove of data -- nearly 100 billion words from a Google News dataset.\n",
    "\n",
    "It was a good reminder: Efficiency beats power -- every time. Build (or download) the tool that solves your problem, not the shiny toy."
   ]
  }
 ],
 "metadata": {
  "kernelspec": {
   "display_name": "Python 3 (ipykernel)",
   "language": "python",
   "name": "python3"
  },
  "language_info": {
   "codemirror_mode": {
    "name": "ipython",
    "version": 3
   },
   "file_extension": ".py",
   "mimetype": "text/x-python",
   "name": "python",
   "nbconvert_exporter": "python",
   "pygments_lexer": "ipython3",
   "version": "3.12.7"
  }
 },
 "nbformat": 4,
 "nbformat_minor": 5
}
